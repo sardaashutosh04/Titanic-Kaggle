{
 "cells": [
  {
   "cell_type": "markdown",
   "metadata": {},
   "source": [
    "# Kaggle - Titanic"
   ]
  },
  {
   "cell_type": "code",
   "execution_count": 1,
   "metadata": {},
   "outputs": [],
   "source": [
    "import pandas as pd\n",
    "import numpy as np\n",
    "import matplotlib.pyplot as plt\n",
    "%matplotlib inline\n",
    "import seaborn as sns"
   ]
  },
  {
   "cell_type": "code",
   "execution_count": 2,
   "metadata": {},
   "outputs": [],
   "source": [
    "train_df = pd.read_csv('train.csv')\n",
    "test_df = pd.read_csv('test.csv')"
   ]
  },
  {
   "cell_type": "code",
   "execution_count": 3,
   "metadata": {},
   "outputs": [
    {
     "data": {
      "text/html": [
       "<div>\n",
       "<style scoped>\n",
       "    .dataframe tbody tr th:only-of-type {\n",
       "        vertical-align: middle;\n",
       "    }\n",
       "\n",
       "    .dataframe tbody tr th {\n",
       "        vertical-align: top;\n",
       "    }\n",
       "\n",
       "    .dataframe thead th {\n",
       "        text-align: right;\n",
       "    }\n",
       "</style>\n",
       "<table border=\"1\" class=\"dataframe\">\n",
       "  <thead>\n",
       "    <tr style=\"text-align: right;\">\n",
       "      <th></th>\n",
       "      <th>PassengerId</th>\n",
       "      <th>Survived</th>\n",
       "      <th>Pclass</th>\n",
       "      <th>Name</th>\n",
       "      <th>Sex</th>\n",
       "      <th>Age</th>\n",
       "      <th>SibSp</th>\n",
       "      <th>Parch</th>\n",
       "      <th>Ticket</th>\n",
       "      <th>Fare</th>\n",
       "      <th>Cabin</th>\n",
       "      <th>Embarked</th>\n",
       "    </tr>\n",
       "  </thead>\n",
       "  <tbody>\n",
       "    <tr>\n",
       "      <th>0</th>\n",
       "      <td>1</td>\n",
       "      <td>0</td>\n",
       "      <td>3</td>\n",
       "      <td>Braund, Mr. Owen Harris</td>\n",
       "      <td>male</td>\n",
       "      <td>22.0</td>\n",
       "      <td>1</td>\n",
       "      <td>0</td>\n",
       "      <td>A/5 21171</td>\n",
       "      <td>7.2500</td>\n",
       "      <td>NaN</td>\n",
       "      <td>S</td>\n",
       "    </tr>\n",
       "    <tr>\n",
       "      <th>1</th>\n",
       "      <td>2</td>\n",
       "      <td>1</td>\n",
       "      <td>1</td>\n",
       "      <td>Cumings, Mrs. John Bradley (Florence Briggs Th...</td>\n",
       "      <td>female</td>\n",
       "      <td>38.0</td>\n",
       "      <td>1</td>\n",
       "      <td>0</td>\n",
       "      <td>PC 17599</td>\n",
       "      <td>71.2833</td>\n",
       "      <td>C85</td>\n",
       "      <td>C</td>\n",
       "    </tr>\n",
       "    <tr>\n",
       "      <th>2</th>\n",
       "      <td>3</td>\n",
       "      <td>1</td>\n",
       "      <td>3</td>\n",
       "      <td>Heikkinen, Miss. Laina</td>\n",
       "      <td>female</td>\n",
       "      <td>26.0</td>\n",
       "      <td>0</td>\n",
       "      <td>0</td>\n",
       "      <td>STON/O2. 3101282</td>\n",
       "      <td>7.9250</td>\n",
       "      <td>NaN</td>\n",
       "      <td>S</td>\n",
       "    </tr>\n",
       "    <tr>\n",
       "      <th>3</th>\n",
       "      <td>4</td>\n",
       "      <td>1</td>\n",
       "      <td>1</td>\n",
       "      <td>Futrelle, Mrs. Jacques Heath (Lily May Peel)</td>\n",
       "      <td>female</td>\n",
       "      <td>35.0</td>\n",
       "      <td>1</td>\n",
       "      <td>0</td>\n",
       "      <td>113803</td>\n",
       "      <td>53.1000</td>\n",
       "      <td>C123</td>\n",
       "      <td>S</td>\n",
       "    </tr>\n",
       "    <tr>\n",
       "      <th>4</th>\n",
       "      <td>5</td>\n",
       "      <td>0</td>\n",
       "      <td>3</td>\n",
       "      <td>Allen, Mr. William Henry</td>\n",
       "      <td>male</td>\n",
       "      <td>35.0</td>\n",
       "      <td>0</td>\n",
       "      <td>0</td>\n",
       "      <td>373450</td>\n",
       "      <td>8.0500</td>\n",
       "      <td>NaN</td>\n",
       "      <td>S</td>\n",
       "    </tr>\n",
       "    <tr>\n",
       "      <th>...</th>\n",
       "      <td>...</td>\n",
       "      <td>...</td>\n",
       "      <td>...</td>\n",
       "      <td>...</td>\n",
       "      <td>...</td>\n",
       "      <td>...</td>\n",
       "      <td>...</td>\n",
       "      <td>...</td>\n",
       "      <td>...</td>\n",
       "      <td>...</td>\n",
       "      <td>...</td>\n",
       "      <td>...</td>\n",
       "    </tr>\n",
       "    <tr>\n",
       "      <th>886</th>\n",
       "      <td>887</td>\n",
       "      <td>0</td>\n",
       "      <td>2</td>\n",
       "      <td>Montvila, Rev. Juozas</td>\n",
       "      <td>male</td>\n",
       "      <td>27.0</td>\n",
       "      <td>0</td>\n",
       "      <td>0</td>\n",
       "      <td>211536</td>\n",
       "      <td>13.0000</td>\n",
       "      <td>NaN</td>\n",
       "      <td>S</td>\n",
       "    </tr>\n",
       "    <tr>\n",
       "      <th>887</th>\n",
       "      <td>888</td>\n",
       "      <td>1</td>\n",
       "      <td>1</td>\n",
       "      <td>Graham, Miss. Margaret Edith</td>\n",
       "      <td>female</td>\n",
       "      <td>19.0</td>\n",
       "      <td>0</td>\n",
       "      <td>0</td>\n",
       "      <td>112053</td>\n",
       "      <td>30.0000</td>\n",
       "      <td>B42</td>\n",
       "      <td>S</td>\n",
       "    </tr>\n",
       "    <tr>\n",
       "      <th>888</th>\n",
       "      <td>889</td>\n",
       "      <td>0</td>\n",
       "      <td>3</td>\n",
       "      <td>Johnston, Miss. Catherine Helen \"Carrie\"</td>\n",
       "      <td>female</td>\n",
       "      <td>NaN</td>\n",
       "      <td>1</td>\n",
       "      <td>2</td>\n",
       "      <td>W./C. 6607</td>\n",
       "      <td>23.4500</td>\n",
       "      <td>NaN</td>\n",
       "      <td>S</td>\n",
       "    </tr>\n",
       "    <tr>\n",
       "      <th>889</th>\n",
       "      <td>890</td>\n",
       "      <td>1</td>\n",
       "      <td>1</td>\n",
       "      <td>Behr, Mr. Karl Howell</td>\n",
       "      <td>male</td>\n",
       "      <td>26.0</td>\n",
       "      <td>0</td>\n",
       "      <td>0</td>\n",
       "      <td>111369</td>\n",
       "      <td>30.0000</td>\n",
       "      <td>C148</td>\n",
       "      <td>C</td>\n",
       "    </tr>\n",
       "    <tr>\n",
       "      <th>890</th>\n",
       "      <td>891</td>\n",
       "      <td>0</td>\n",
       "      <td>3</td>\n",
       "      <td>Dooley, Mr. Patrick</td>\n",
       "      <td>male</td>\n",
       "      <td>32.0</td>\n",
       "      <td>0</td>\n",
       "      <td>0</td>\n",
       "      <td>370376</td>\n",
       "      <td>7.7500</td>\n",
       "      <td>NaN</td>\n",
       "      <td>Q</td>\n",
       "    </tr>\n",
       "  </tbody>\n",
       "</table>\n",
       "<p>891 rows × 12 columns</p>\n",
       "</div>"
      ],
      "text/plain": [
       "     PassengerId  Survived  Pclass  \\\n",
       "0              1         0       3   \n",
       "1              2         1       1   \n",
       "2              3         1       3   \n",
       "3              4         1       1   \n",
       "4              5         0       3   \n",
       "..           ...       ...     ...   \n",
       "886          887         0       2   \n",
       "887          888         1       1   \n",
       "888          889         0       3   \n",
       "889          890         1       1   \n",
       "890          891         0       3   \n",
       "\n",
       "                                                  Name     Sex   Age  SibSp  \\\n",
       "0                              Braund, Mr. Owen Harris    male  22.0      1   \n",
       "1    Cumings, Mrs. John Bradley (Florence Briggs Th...  female  38.0      1   \n",
       "2                               Heikkinen, Miss. Laina  female  26.0      0   \n",
       "3         Futrelle, Mrs. Jacques Heath (Lily May Peel)  female  35.0      1   \n",
       "4                             Allen, Mr. William Henry    male  35.0      0   \n",
       "..                                                 ...     ...   ...    ...   \n",
       "886                              Montvila, Rev. Juozas    male  27.0      0   \n",
       "887                       Graham, Miss. Margaret Edith  female  19.0      0   \n",
       "888           Johnston, Miss. Catherine Helen \"Carrie\"  female   NaN      1   \n",
       "889                              Behr, Mr. Karl Howell    male  26.0      0   \n",
       "890                                Dooley, Mr. Patrick    male  32.0      0   \n",
       "\n",
       "     Parch            Ticket     Fare Cabin Embarked  \n",
       "0        0         A/5 21171   7.2500   NaN        S  \n",
       "1        0          PC 17599  71.2833   C85        C  \n",
       "2        0  STON/O2. 3101282   7.9250   NaN        S  \n",
       "3        0            113803  53.1000  C123        S  \n",
       "4        0            373450   8.0500   NaN        S  \n",
       "..     ...               ...      ...   ...      ...  \n",
       "886      0            211536  13.0000   NaN        S  \n",
       "887      0            112053  30.0000   B42        S  \n",
       "888      2        W./C. 6607  23.4500   NaN        S  \n",
       "889      0            111369  30.0000  C148        C  \n",
       "890      0            370376   7.7500   NaN        Q  \n",
       "\n",
       "[891 rows x 12 columns]"
      ]
     },
     "execution_count": 3,
     "metadata": {},
     "output_type": "execute_result"
    }
   ],
   "source": [
    "train_df"
   ]
  },
  {
   "cell_type": "code",
   "execution_count": 4,
   "metadata": {},
   "outputs": [
    {
     "data": {
      "text/html": [
       "<div>\n",
       "<style scoped>\n",
       "    .dataframe tbody tr th:only-of-type {\n",
       "        vertical-align: middle;\n",
       "    }\n",
       "\n",
       "    .dataframe tbody tr th {\n",
       "        vertical-align: top;\n",
       "    }\n",
       "\n",
       "    .dataframe thead th {\n",
       "        text-align: right;\n",
       "    }\n",
       "</style>\n",
       "<table border=\"1\" class=\"dataframe\">\n",
       "  <thead>\n",
       "    <tr style=\"text-align: right;\">\n",
       "      <th></th>\n",
       "      <th>PassengerId</th>\n",
       "      <th>Pclass</th>\n",
       "      <th>Name</th>\n",
       "      <th>Sex</th>\n",
       "      <th>Age</th>\n",
       "      <th>SibSp</th>\n",
       "      <th>Parch</th>\n",
       "      <th>Ticket</th>\n",
       "      <th>Fare</th>\n",
       "      <th>Cabin</th>\n",
       "      <th>Embarked</th>\n",
       "    </tr>\n",
       "  </thead>\n",
       "  <tbody>\n",
       "    <tr>\n",
       "      <th>0</th>\n",
       "      <td>892</td>\n",
       "      <td>3</td>\n",
       "      <td>Kelly, Mr. James</td>\n",
       "      <td>male</td>\n",
       "      <td>34.5</td>\n",
       "      <td>0</td>\n",
       "      <td>0</td>\n",
       "      <td>330911</td>\n",
       "      <td>7.8292</td>\n",
       "      <td>NaN</td>\n",
       "      <td>Q</td>\n",
       "    </tr>\n",
       "    <tr>\n",
       "      <th>1</th>\n",
       "      <td>893</td>\n",
       "      <td>3</td>\n",
       "      <td>Wilkes, Mrs. James (Ellen Needs)</td>\n",
       "      <td>female</td>\n",
       "      <td>47.0</td>\n",
       "      <td>1</td>\n",
       "      <td>0</td>\n",
       "      <td>363272</td>\n",
       "      <td>7.0000</td>\n",
       "      <td>NaN</td>\n",
       "      <td>S</td>\n",
       "    </tr>\n",
       "    <tr>\n",
       "      <th>2</th>\n",
       "      <td>894</td>\n",
       "      <td>2</td>\n",
       "      <td>Myles, Mr. Thomas Francis</td>\n",
       "      <td>male</td>\n",
       "      <td>62.0</td>\n",
       "      <td>0</td>\n",
       "      <td>0</td>\n",
       "      <td>240276</td>\n",
       "      <td>9.6875</td>\n",
       "      <td>NaN</td>\n",
       "      <td>Q</td>\n",
       "    </tr>\n",
       "    <tr>\n",
       "      <th>3</th>\n",
       "      <td>895</td>\n",
       "      <td>3</td>\n",
       "      <td>Wirz, Mr. Albert</td>\n",
       "      <td>male</td>\n",
       "      <td>27.0</td>\n",
       "      <td>0</td>\n",
       "      <td>0</td>\n",
       "      <td>315154</td>\n",
       "      <td>8.6625</td>\n",
       "      <td>NaN</td>\n",
       "      <td>S</td>\n",
       "    </tr>\n",
       "    <tr>\n",
       "      <th>4</th>\n",
       "      <td>896</td>\n",
       "      <td>3</td>\n",
       "      <td>Hirvonen, Mrs. Alexander (Helga E Lindqvist)</td>\n",
       "      <td>female</td>\n",
       "      <td>22.0</td>\n",
       "      <td>1</td>\n",
       "      <td>1</td>\n",
       "      <td>3101298</td>\n",
       "      <td>12.2875</td>\n",
       "      <td>NaN</td>\n",
       "      <td>S</td>\n",
       "    </tr>\n",
       "    <tr>\n",
       "      <th>...</th>\n",
       "      <td>...</td>\n",
       "      <td>...</td>\n",
       "      <td>...</td>\n",
       "      <td>...</td>\n",
       "      <td>...</td>\n",
       "      <td>...</td>\n",
       "      <td>...</td>\n",
       "      <td>...</td>\n",
       "      <td>...</td>\n",
       "      <td>...</td>\n",
       "      <td>...</td>\n",
       "    </tr>\n",
       "    <tr>\n",
       "      <th>413</th>\n",
       "      <td>1305</td>\n",
       "      <td>3</td>\n",
       "      <td>Spector, Mr. Woolf</td>\n",
       "      <td>male</td>\n",
       "      <td>NaN</td>\n",
       "      <td>0</td>\n",
       "      <td>0</td>\n",
       "      <td>A.5. 3236</td>\n",
       "      <td>8.0500</td>\n",
       "      <td>NaN</td>\n",
       "      <td>S</td>\n",
       "    </tr>\n",
       "    <tr>\n",
       "      <th>414</th>\n",
       "      <td>1306</td>\n",
       "      <td>1</td>\n",
       "      <td>Oliva y Ocana, Dona. Fermina</td>\n",
       "      <td>female</td>\n",
       "      <td>39.0</td>\n",
       "      <td>0</td>\n",
       "      <td>0</td>\n",
       "      <td>PC 17758</td>\n",
       "      <td>108.9000</td>\n",
       "      <td>C105</td>\n",
       "      <td>C</td>\n",
       "    </tr>\n",
       "    <tr>\n",
       "      <th>415</th>\n",
       "      <td>1307</td>\n",
       "      <td>3</td>\n",
       "      <td>Saether, Mr. Simon Sivertsen</td>\n",
       "      <td>male</td>\n",
       "      <td>38.5</td>\n",
       "      <td>0</td>\n",
       "      <td>0</td>\n",
       "      <td>SOTON/O.Q. 3101262</td>\n",
       "      <td>7.2500</td>\n",
       "      <td>NaN</td>\n",
       "      <td>S</td>\n",
       "    </tr>\n",
       "    <tr>\n",
       "      <th>416</th>\n",
       "      <td>1308</td>\n",
       "      <td>3</td>\n",
       "      <td>Ware, Mr. Frederick</td>\n",
       "      <td>male</td>\n",
       "      <td>NaN</td>\n",
       "      <td>0</td>\n",
       "      <td>0</td>\n",
       "      <td>359309</td>\n",
       "      <td>8.0500</td>\n",
       "      <td>NaN</td>\n",
       "      <td>S</td>\n",
       "    </tr>\n",
       "    <tr>\n",
       "      <th>417</th>\n",
       "      <td>1309</td>\n",
       "      <td>3</td>\n",
       "      <td>Peter, Master. Michael J</td>\n",
       "      <td>male</td>\n",
       "      <td>NaN</td>\n",
       "      <td>1</td>\n",
       "      <td>1</td>\n",
       "      <td>2668</td>\n",
       "      <td>22.3583</td>\n",
       "      <td>NaN</td>\n",
       "      <td>C</td>\n",
       "    </tr>\n",
       "  </tbody>\n",
       "</table>\n",
       "<p>418 rows × 11 columns</p>\n",
       "</div>"
      ],
      "text/plain": [
       "     PassengerId  Pclass                                          Name  \\\n",
       "0            892       3                              Kelly, Mr. James   \n",
       "1            893       3              Wilkes, Mrs. James (Ellen Needs)   \n",
       "2            894       2                     Myles, Mr. Thomas Francis   \n",
       "3            895       3                              Wirz, Mr. Albert   \n",
       "4            896       3  Hirvonen, Mrs. Alexander (Helga E Lindqvist)   \n",
       "..           ...     ...                                           ...   \n",
       "413         1305       3                            Spector, Mr. Woolf   \n",
       "414         1306       1                  Oliva y Ocana, Dona. Fermina   \n",
       "415         1307       3                  Saether, Mr. Simon Sivertsen   \n",
       "416         1308       3                           Ware, Mr. Frederick   \n",
       "417         1309       3                      Peter, Master. Michael J   \n",
       "\n",
       "        Sex   Age  SibSp  Parch              Ticket      Fare Cabin Embarked  \n",
       "0      male  34.5      0      0              330911    7.8292   NaN        Q  \n",
       "1    female  47.0      1      0              363272    7.0000   NaN        S  \n",
       "2      male  62.0      0      0              240276    9.6875   NaN        Q  \n",
       "3      male  27.0      0      0              315154    8.6625   NaN        S  \n",
       "4    female  22.0      1      1             3101298   12.2875   NaN        S  \n",
       "..      ...   ...    ...    ...                 ...       ...   ...      ...  \n",
       "413    male   NaN      0      0           A.5. 3236    8.0500   NaN        S  \n",
       "414  female  39.0      0      0            PC 17758  108.9000  C105        C  \n",
       "415    male  38.5      0      0  SOTON/O.Q. 3101262    7.2500   NaN        S  \n",
       "416    male   NaN      0      0              359309    8.0500   NaN        S  \n",
       "417    male   NaN      1      1                2668   22.3583   NaN        C  \n",
       "\n",
       "[418 rows x 11 columns]"
      ]
     },
     "execution_count": 4,
     "metadata": {},
     "output_type": "execute_result"
    }
   ],
   "source": [
    "test_df"
   ]
  },
  {
   "cell_type": "code",
   "execution_count": 5,
   "metadata": {},
   "outputs": [],
   "source": [
    "ntrain = 891"
   ]
  },
  {
   "cell_type": "code",
   "execution_count": 6,
   "metadata": {},
   "outputs": [],
   "source": [
    "data_df = pd.concat([train_df, test_df]).reset_index()\n",
    "data_df.drop('index', axis=1, inplace=True)"
   ]
  },
  {
   "cell_type": "code",
   "execution_count": 7,
   "metadata": {},
   "outputs": [
    {
     "data": {
      "text/html": [
       "<div>\n",
       "<style scoped>\n",
       "    .dataframe tbody tr th:only-of-type {\n",
       "        vertical-align: middle;\n",
       "    }\n",
       "\n",
       "    .dataframe tbody tr th {\n",
       "        vertical-align: top;\n",
       "    }\n",
       "\n",
       "    .dataframe thead th {\n",
       "        text-align: right;\n",
       "    }\n",
       "</style>\n",
       "<table border=\"1\" class=\"dataframe\">\n",
       "  <thead>\n",
       "    <tr style=\"text-align: right;\">\n",
       "      <th></th>\n",
       "      <th>PassengerId</th>\n",
       "      <th>Survived</th>\n",
       "      <th>Pclass</th>\n",
       "      <th>Age</th>\n",
       "      <th>SibSp</th>\n",
       "      <th>Parch</th>\n",
       "      <th>Fare</th>\n",
       "    </tr>\n",
       "  </thead>\n",
       "  <tbody>\n",
       "    <tr>\n",
       "      <th>count</th>\n",
       "      <td>1309.000000</td>\n",
       "      <td>891.000000</td>\n",
       "      <td>1309.000000</td>\n",
       "      <td>1046.000000</td>\n",
       "      <td>1309.000000</td>\n",
       "      <td>1309.000000</td>\n",
       "      <td>1308.000000</td>\n",
       "    </tr>\n",
       "    <tr>\n",
       "      <th>mean</th>\n",
       "      <td>655.000000</td>\n",
       "      <td>0.383838</td>\n",
       "      <td>2.294882</td>\n",
       "      <td>29.881138</td>\n",
       "      <td>0.498854</td>\n",
       "      <td>0.385027</td>\n",
       "      <td>33.295479</td>\n",
       "    </tr>\n",
       "    <tr>\n",
       "      <th>std</th>\n",
       "      <td>378.020061</td>\n",
       "      <td>0.486592</td>\n",
       "      <td>0.837836</td>\n",
       "      <td>14.413493</td>\n",
       "      <td>1.041658</td>\n",
       "      <td>0.865560</td>\n",
       "      <td>51.758668</td>\n",
       "    </tr>\n",
       "    <tr>\n",
       "      <th>min</th>\n",
       "      <td>1.000000</td>\n",
       "      <td>0.000000</td>\n",
       "      <td>1.000000</td>\n",
       "      <td>0.170000</td>\n",
       "      <td>0.000000</td>\n",
       "      <td>0.000000</td>\n",
       "      <td>0.000000</td>\n",
       "    </tr>\n",
       "    <tr>\n",
       "      <th>25%</th>\n",
       "      <td>328.000000</td>\n",
       "      <td>0.000000</td>\n",
       "      <td>2.000000</td>\n",
       "      <td>21.000000</td>\n",
       "      <td>0.000000</td>\n",
       "      <td>0.000000</td>\n",
       "      <td>7.895800</td>\n",
       "    </tr>\n",
       "    <tr>\n",
       "      <th>50%</th>\n",
       "      <td>655.000000</td>\n",
       "      <td>0.000000</td>\n",
       "      <td>3.000000</td>\n",
       "      <td>28.000000</td>\n",
       "      <td>0.000000</td>\n",
       "      <td>0.000000</td>\n",
       "      <td>14.454200</td>\n",
       "    </tr>\n",
       "    <tr>\n",
       "      <th>75%</th>\n",
       "      <td>982.000000</td>\n",
       "      <td>1.000000</td>\n",
       "      <td>3.000000</td>\n",
       "      <td>39.000000</td>\n",
       "      <td>1.000000</td>\n",
       "      <td>0.000000</td>\n",
       "      <td>31.275000</td>\n",
       "    </tr>\n",
       "    <tr>\n",
       "      <th>max</th>\n",
       "      <td>1309.000000</td>\n",
       "      <td>1.000000</td>\n",
       "      <td>3.000000</td>\n",
       "      <td>80.000000</td>\n",
       "      <td>8.000000</td>\n",
       "      <td>9.000000</td>\n",
       "      <td>512.329200</td>\n",
       "    </tr>\n",
       "  </tbody>\n",
       "</table>\n",
       "</div>"
      ],
      "text/plain": [
       "       PassengerId    Survived       Pclass          Age        SibSp  \\\n",
       "count  1309.000000  891.000000  1309.000000  1046.000000  1309.000000   \n",
       "mean    655.000000    0.383838     2.294882    29.881138     0.498854   \n",
       "std     378.020061    0.486592     0.837836    14.413493     1.041658   \n",
       "min       1.000000    0.000000     1.000000     0.170000     0.000000   \n",
       "25%     328.000000    0.000000     2.000000    21.000000     0.000000   \n",
       "50%     655.000000    0.000000     3.000000    28.000000     0.000000   \n",
       "75%     982.000000    1.000000     3.000000    39.000000     1.000000   \n",
       "max    1309.000000    1.000000     3.000000    80.000000     8.000000   \n",
       "\n",
       "             Parch         Fare  \n",
       "count  1309.000000  1308.000000  \n",
       "mean      0.385027    33.295479  \n",
       "std       0.865560    51.758668  \n",
       "min       0.000000     0.000000  \n",
       "25%       0.000000     7.895800  \n",
       "50%       0.000000    14.454200  \n",
       "75%       0.000000    31.275000  \n",
       "max       9.000000   512.329200  "
      ]
     },
     "execution_count": 7,
     "metadata": {},
     "output_type": "execute_result"
    }
   ],
   "source": [
    "data_df.describe()"
   ]
  },
  {
   "cell_type": "code",
   "execution_count": 8,
   "metadata": {},
   "outputs": [
    {
     "data": {
      "text/plain": [
       "PassengerId      int64\n",
       "Survived       float64\n",
       "Pclass           int64\n",
       "Name            object\n",
       "Sex             object\n",
       "Age            float64\n",
       "SibSp            int64\n",
       "Parch            int64\n",
       "Ticket          object\n",
       "Fare           float64\n",
       "Cabin           object\n",
       "Embarked        object\n",
       "dtype: object"
      ]
     },
     "execution_count": 8,
     "metadata": {},
     "output_type": "execute_result"
    }
   ],
   "source": [
    "data_df.dtypes"
   ]
  },
  {
   "cell_type": "markdown",
   "metadata": {},
   "source": [
    "## Data Clenaing"
   ]
  },
  {
   "cell_type": "code",
   "execution_count": 9,
   "metadata": {},
   "outputs": [
    {
     "data": {
      "text/plain": [
       "PassengerId     0.000000\n",
       "Survived       31.932773\n",
       "Pclass          0.000000\n",
       "Name            0.000000\n",
       "Sex             0.000000\n",
       "Age            20.091673\n",
       "SibSp           0.000000\n",
       "Parch           0.000000\n",
       "Ticket          0.000000\n",
       "Fare            0.076394\n",
       "Cabin          77.463713\n",
       "Embarked        0.152788\n",
       "dtype: float64"
      ]
     },
     "execution_count": 9,
     "metadata": {},
     "output_type": "execute_result"
    }
   ],
   "source": [
    "data_df.isna().sum()/len(data_df) * 100"
   ]
  },
  {
   "cell_type": "code",
   "execution_count": 10,
   "metadata": {},
   "outputs": [],
   "source": [
    "data_df.drop(['Cabin', 'Name', 'PassengerId'], axis=1, inplace=True)"
   ]
  },
  {
   "cell_type": "code",
   "execution_count": 11,
   "metadata": {},
   "outputs": [
    {
     "data": {
      "text/html": [
       "<div>\n",
       "<style scoped>\n",
       "    .dataframe tbody tr th:only-of-type {\n",
       "        vertical-align: middle;\n",
       "    }\n",
       "\n",
       "    .dataframe tbody tr th {\n",
       "        vertical-align: top;\n",
       "    }\n",
       "\n",
       "    .dataframe thead th {\n",
       "        text-align: right;\n",
       "    }\n",
       "</style>\n",
       "<table border=\"1\" class=\"dataframe\">\n",
       "  <thead>\n",
       "    <tr style=\"text-align: right;\">\n",
       "      <th></th>\n",
       "      <th>Survived</th>\n",
       "      <th>Pclass</th>\n",
       "      <th>Sex</th>\n",
       "      <th>Age</th>\n",
       "      <th>SibSp</th>\n",
       "      <th>Parch</th>\n",
       "      <th>Ticket</th>\n",
       "      <th>Fare</th>\n",
       "      <th>Embarked</th>\n",
       "    </tr>\n",
       "  </thead>\n",
       "  <tbody>\n",
       "    <tr>\n",
       "      <th>1043</th>\n",
       "      <td>NaN</td>\n",
       "      <td>3</td>\n",
       "      <td>male</td>\n",
       "      <td>60.5</td>\n",
       "      <td>0</td>\n",
       "      <td>0</td>\n",
       "      <td>3701</td>\n",
       "      <td>NaN</td>\n",
       "      <td>S</td>\n",
       "    </tr>\n",
       "  </tbody>\n",
       "</table>\n",
       "</div>"
      ],
      "text/plain": [
       "      Survived  Pclass   Sex   Age  SibSp  Parch Ticket  Fare Embarked\n",
       "1043       NaN       3  male  60.5      0      0   3701   NaN        S"
      ]
     },
     "execution_count": 11,
     "metadata": {},
     "output_type": "execute_result"
    }
   ],
   "source": [
    "data_df.loc[data_df.Fare.isna()]"
   ]
  },
  {
   "cell_type": "code",
   "execution_count": 12,
   "metadata": {},
   "outputs": [],
   "source": [
    "avg_fare = data_df.groupby('Pclass').mean()['Fare']"
   ]
  },
  {
   "cell_type": "code",
   "execution_count": 13,
   "metadata": {},
   "outputs": [
    {
     "data": {
      "text/plain": [
       "Pclass\n",
       "1    87.508992\n",
       "2    21.179196\n",
       "3    13.302889\n",
       "Name: Fare, dtype: float64"
      ]
     },
     "execution_count": 13,
     "metadata": {},
     "output_type": "execute_result"
    }
   ],
   "source": [
    "avg_fare"
   ]
  },
  {
   "cell_type": "code",
   "execution_count": 14,
   "metadata": {},
   "outputs": [],
   "source": [
    "data_df.at[1043, 'Fare'] = 13.3029"
   ]
  },
  {
   "cell_type": "code",
   "execution_count": 15,
   "metadata": {},
   "outputs": [
    {
     "data": {
      "text/html": [
       "<div>\n",
       "<style scoped>\n",
       "    .dataframe tbody tr th:only-of-type {\n",
       "        vertical-align: middle;\n",
       "    }\n",
       "\n",
       "    .dataframe tbody tr th {\n",
       "        vertical-align: top;\n",
       "    }\n",
       "\n",
       "    .dataframe thead th {\n",
       "        text-align: right;\n",
       "    }\n",
       "</style>\n",
       "<table border=\"1\" class=\"dataframe\">\n",
       "  <thead>\n",
       "    <tr style=\"text-align: right;\">\n",
       "      <th></th>\n",
       "      <th>Survived</th>\n",
       "      <th>Pclass</th>\n",
       "      <th>Sex</th>\n",
       "      <th>Age</th>\n",
       "      <th>SibSp</th>\n",
       "      <th>Parch</th>\n",
       "      <th>Ticket</th>\n",
       "      <th>Fare</th>\n",
       "      <th>Embarked</th>\n",
       "    </tr>\n",
       "  </thead>\n",
       "  <tbody>\n",
       "    <tr>\n",
       "      <th>61</th>\n",
       "      <td>1.0</td>\n",
       "      <td>1</td>\n",
       "      <td>female</td>\n",
       "      <td>38.0</td>\n",
       "      <td>0</td>\n",
       "      <td>0</td>\n",
       "      <td>113572</td>\n",
       "      <td>80.0</td>\n",
       "      <td>NaN</td>\n",
       "    </tr>\n",
       "    <tr>\n",
       "      <th>829</th>\n",
       "      <td>1.0</td>\n",
       "      <td>1</td>\n",
       "      <td>female</td>\n",
       "      <td>62.0</td>\n",
       "      <td>0</td>\n",
       "      <td>0</td>\n",
       "      <td>113572</td>\n",
       "      <td>80.0</td>\n",
       "      <td>NaN</td>\n",
       "    </tr>\n",
       "  </tbody>\n",
       "</table>\n",
       "</div>"
      ],
      "text/plain": [
       "     Survived  Pclass     Sex   Age  SibSp  Parch  Ticket  Fare Embarked\n",
       "61        1.0       1  female  38.0      0      0  113572  80.0      NaN\n",
       "829       1.0       1  female  62.0      0      0  113572  80.0      NaN"
      ]
     },
     "execution_count": 15,
     "metadata": {},
     "output_type": "execute_result"
    }
   ],
   "source": [
    "data_df.loc[data_df.Embarked.isna()]"
   ]
  },
  {
   "cell_type": "code",
   "execution_count": 16,
   "metadata": {},
   "outputs": [
    {
     "data": {
      "text/plain": [
       "0    S\n",
       "dtype: object"
      ]
     },
     "execution_count": 16,
     "metadata": {},
     "output_type": "execute_result"
    }
   ],
   "source": [
    "data_df.Embarked.mode()"
   ]
  },
  {
   "cell_type": "code",
   "execution_count": 17,
   "metadata": {},
   "outputs": [],
   "source": [
    "data_df['Embarked'].fillna('S', inplace=True)"
   ]
  },
  {
   "cell_type": "code",
   "execution_count": 18,
   "metadata": {},
   "outputs": [
    {
     "data": {
      "text/plain": [
       "Sex\n",
       "female    29.0\n",
       "male      31.0\n",
       "Name: Age, dtype: float64"
      ]
     },
     "execution_count": 18,
     "metadata": {},
     "output_type": "execute_result"
    }
   ],
   "source": [
    "avg_age = data_df.groupby('Sex').mean()['Age']\n",
    "avg_age.round()"
   ]
  },
  {
   "cell_type": "code",
   "execution_count": 19,
   "metadata": {},
   "outputs": [],
   "source": [
    "data_df['Age'].fillna(30.0, inplace=True)"
   ]
  },
  {
   "cell_type": "code",
   "execution_count": 20,
   "metadata": {},
   "outputs": [
    {
     "data": {
      "text/plain": [
       "Survived    31.932773\n",
       "Pclass       0.000000\n",
       "Sex          0.000000\n",
       "Age          0.000000\n",
       "SibSp        0.000000\n",
       "Parch        0.000000\n",
       "Ticket       0.000000\n",
       "Fare         0.000000\n",
       "Embarked     0.000000\n",
       "dtype: float64"
      ]
     },
     "execution_count": 20,
     "metadata": {},
     "output_type": "execute_result"
    }
   ],
   "source": [
    "data_df.isna().sum()/len(data_df) * 100"
   ]
  },
  {
   "cell_type": "markdown",
   "metadata": {},
   "source": [
    "## Data Featuring and Visualization"
   ]
  },
  {
   "cell_type": "code",
   "execution_count": 21,
   "metadata": {},
   "outputs": [],
   "source": [
    "data_featured = data_df.copy()"
   ]
  },
  {
   "cell_type": "markdown",
   "metadata": {},
   "source": [
    "### Sex"
   ]
  },
  {
   "cell_type": "code",
   "execution_count": 22,
   "metadata": {},
   "outputs": [
    {
     "data": {
      "text/plain": [
       "Sex\n",
       "female    233.0\n",
       "male      109.0\n",
       "Name: Survived, dtype: float64"
      ]
     },
     "execution_count": 22,
     "metadata": {},
     "output_type": "execute_result"
    }
   ],
   "source": [
    "data_df.groupby('Sex').sum()['Survived']"
   ]
  },
  {
   "cell_type": "code",
   "execution_count": 23,
   "metadata": {},
   "outputs": [
    {
     "data": {
      "image/png": "[encoded data removed]",
      "text/plain": [
       "<Figure size 2592x720 with 3 Axes>"
      ]
     },
     "metadata": {
      "needs_background": "light"
     },
     "output_type": "display_data"
    }
   ],
   "source": [
    "fig, axes = plt.subplots(1,3, figsize=(36,10));\n",
    "fig.suptitle('Sex', fontsize=30)\n",
    "sns.countplot(data_df.Survived, ax=axes[0])\n",
    "axes[0].set_xlabel('Survived', fontsize=15)\n",
    "axes[0].set_ylabel('Count', fontsize=15)\n",
    "sns.barplot(x='Sex', y='Survived', data=data_df, ax=axes[1])\n",
    "axes[1].set_xlabel('Sex', fontsize=15)\n",
    "axes[1].set_ylabel('Survived', fontsize=15)\n",
    "sns.countplot(data_df.Survived,  hue=data_df.Sex, ax=axes[2])\n",
    "axes[2].set_xlabel('Survived', fontsize=15)\n",
    "axes[2].set_ylabel('Count', fontsize=15);"
   ]
  },
  {
   "cell_type": "code",
   "execution_count": 24,
   "metadata": {},
   "outputs": [],
   "source": [
    "data_featured['Male'] = data_featured['Sex'].replace({'male':1, 'female':0})\n",
    "data_featured['Female'] = data_featured['Sex'].replace({'male':0, 'female':1})"
   ]
  },
  {
   "cell_type": "code",
   "execution_count": 25,
   "metadata": {},
   "outputs": [],
   "source": [
    "data_featured.drop('Sex', axis=1, inplace=True)"
   ]
  },
  {
   "cell_type": "markdown",
   "metadata": {},
   "source": [
    "### Pclass"
   ]
  },
  {
   "cell_type": "code",
   "execution_count": 26,
   "metadata": {},
   "outputs": [
    {
     "data": {
      "text/plain": [
       "3    709\n",
       "1    323\n",
       "2    277\n",
       "Name: Pclass, dtype: int64"
      ]
     },
     "execution_count": 26,
     "metadata": {},
     "output_type": "execute_result"
    }
   ],
   "source": [
    "data_df.Pclass.value_counts()"
   ]
  },
  {
   "cell_type": "code",
   "execution_count": 27,
   "metadata": {},
   "outputs": [
    {
     "data": {
      "image/png": "[encoded data removed]",
      "text/plain": [
       "<Figure size 864x432 with 1 Axes>"
      ]
     },
     "metadata": {
      "needs_background": "light"
     },
     "output_type": "display_data"
    }
   ],
   "source": [
    "plt.figure(figsize=(12,6))\n",
    "\n",
    "sns.countplot(data_df['Pclass']);\n",
    "\n",
    "plt.title('P-Class', fontsize=15)\n",
    "plt.ylabel('Count');"
   ]
  },
  {
   "cell_type": "code",
   "execution_count": 28,
   "metadata": {},
   "outputs": [
    {
     "data": {
      "image/png": "[encoded data removed]",
      "text/plain": [
       "<Figure size 864x432 with 1 Axes>"
      ]
     },
     "metadata": {
      "needs_background": "light"
     },
     "output_type": "display_data"
    }
   ],
   "source": [
    "plt.figure(figsize=(12,6))\n",
    "\n",
    "sns.countplot(data_df['Survived'], hue=data_df['Pclass']);\n",
    "\n",
    "plt.title('P-Class', fontsize=15)\n",
    "plt.ylabel('Count');"
   ]
  },
  {
   "cell_type": "code",
   "execution_count": 29,
   "metadata": {},
   "outputs": [],
   "source": [
    "Pclass = pd.get_dummies(data_featured[['Pclass']])\n",
    "data_featured = pd.concat([data_featured, Pclass], axis=1)\n",
    "data_featured.drop(columns = 'Pclass', inplace = True)"
   ]
  },
  {
   "cell_type": "code",
   "execution_count": 30,
   "metadata": {},
   "outputs": [
    {
     "data": {
      "text/plain": [
       "Index(['Survived', 'Pclass', 'Sex', 'Age', 'SibSp', 'Parch', 'Ticket', 'Fare',\n",
       "       'Embarked'],\n",
       "      dtype='object')"
      ]
     },
     "execution_count": 30,
     "metadata": {},
     "output_type": "execute_result"
    }
   ],
   "source": [
    "data_df.columns"
   ]
  },
  {
   "cell_type": "markdown",
   "metadata": {},
   "source": [
    "### Age"
   ]
  },
  {
   "cell_type": "code",
   "execution_count": 31,
   "metadata": {},
   "outputs": [
    {
     "data": {
      "text/plain": [
       "Age\n",
       "0.17     0.0\n",
       "0.33     0.0\n",
       "0.42     1.0\n",
       "0.67     1.0\n",
       "0.75     2.0\n",
       "        ... \n",
       "70.50    0.0\n",
       "71.00    0.0\n",
       "74.00    0.0\n",
       "76.00    0.0\n",
       "80.00    1.0\n",
       "Name: Survived, Length: 98, dtype: float64"
      ]
     },
     "execution_count": 31,
     "metadata": {},
     "output_type": "execute_result"
    }
   ],
   "source": [
    "data_df.groupby('Age').sum()['Survived']"
   ]
  },
  {
   "cell_type": "code",
   "execution_count": 32,
   "metadata": {},
   "outputs": [],
   "source": [
    "data_featured['Age'] = data_featured.Age.round()"
   ]
  },
  {
   "cell_type": "code",
   "execution_count": 33,
   "metadata": {},
   "outputs": [
    {
     "data": {
      "image/png": "[encoded data removed]",
      "text/plain": [
       "<Figure size 864x432 with 1 Axes>"
      ]
     },
     "metadata": {
      "needs_background": "light"
     },
     "output_type": "display_data"
    }
   ],
   "source": [
    "plt.figure(figsize=(12,6))\n",
    "\n",
    "plt.bar(data_featured.groupby('Age').sum()['Survived'].index, data_featured.groupby('Age').sum()['Survived']);\n",
    "\n",
    "plt.xlabel('Age')\n",
    "plt.ylabel('Count Survived')\n",
    "plt.title('Age', fontsize=15);"
   ]
  },
  {
   "cell_type": "markdown",
   "metadata": {},
   "source": [
    "### SibSp & Parch"
   ]
  },
  {
   "cell_type": "code",
   "execution_count": 34,
   "metadata": {},
   "outputs": [
    {
     "data": {
      "image/png": "[encoded data removed]",
      "text/plain": [
       "<Figure size 864x432 with 1 Axes>"
      ]
     },
     "metadata": {
      "needs_background": "light"
     },
     "output_type": "display_data"
    }
   ],
   "source": [
    "plt.figure(figsize=(12,6))\n",
    "\n",
    "plt.bar(data_featured.groupby('SibSp').sum()['Survived'].index, data_featured.groupby('SibSp').sum()['Survived']);\n",
    "\n",
    "plt.xlabel('SibSp')\n",
    "plt.ylabel('Count Survived')\n",
    "plt.title('SibSp', fontsize=15);"
   ]
  },
  {
   "cell_type": "code",
   "execution_count": 35,
   "metadata": {},
   "outputs": [
    {
     "data": {
      "image/png": "[encoded data removed]",
      "text/plain": [
       "<Figure size 864x432 with 1 Axes>"
      ]
     },
     "metadata": {
      "needs_background": "light"
     },
     "output_type": "display_data"
    }
   ],
   "source": [
    "plt.figure(figsize=(12,6))\n",
    "\n",
    "plt.bar(data_featured.groupby('Parch').sum()['Survived'].index, data_featured.groupby('Parch').sum()['Survived']);\n",
    "\n",
    "plt.xlabel('Parch')\n",
    "plt.ylabel('Count Survived')\n",
    "plt.title('Parch', fontsize=15);"
   ]
  },
  {
   "cell_type": "code",
   "execution_count": 36,
   "metadata": {},
   "outputs": [],
   "source": [
    "def Alone(x):\n",
    "    if  (x['SibSp'] + x['Parch'])  > 0:\n",
    "        return 0\n",
    "    else:\n",
    "        return 1\n",
    "data_featured['Alone'] = data_featured.apply(Alone, axis=1)"
   ]
  },
  {
   "cell_type": "code",
   "execution_count": 37,
   "metadata": {},
   "outputs": [
    {
     "data": {
      "image/png": "[encoded data removed]",
      "text/plain": [
       "<Figure size 864x432 with 1 Axes>"
      ]
     },
     "metadata": {
      "needs_background": "light"
     },
     "output_type": "display_data"
    }
   ],
   "source": [
    "plt.figure(figsize=(12,6))\n",
    "\n",
    "sns.barplot(x='Alone', y='Survived', data=data_featured);\n",
    "\n",
    "plt.xlabel('Alone')\n",
    "plt.ylabel('Count Survived')\n",
    "plt.title('Alone', fontsize=15);"
   ]
  },
  {
   "cell_type": "code",
   "execution_count": 38,
   "metadata": {},
   "outputs": [],
   "source": [
    "data_featured.drop(['SibSp', 'Parch'], axis=1, inplace=True)"
   ]
  },
  {
   "cell_type": "markdown",
   "metadata": {},
   "source": [
    "### Ticket & Fare"
   ]
  },
  {
   "cell_type": "code",
   "execution_count": 39,
   "metadata": {},
   "outputs": [
    {
     "data": {
      "image/png": "[encoded data removed]",
      "text/plain": [
       "<Figure size 864x432 with 1 Axes>"
      ]
     },
     "metadata": {
      "needs_background": "light"
     },
     "output_type": "display_data"
    }
   ],
   "source": [
    "plt.figure(figsize=(12,6))\n",
    "\n",
    "plt.plot(data_featured.groupby('Fare').sum()['Survived'].index, data_featured.groupby('Fare').sum()['Survived']);\n",
    "\n",
    "plt.xlabel('Fare')\n",
    "plt.ylabel('Count Survived')\n",
    "plt.title('Fare', fontsize=15);"
   ]
  },
  {
   "cell_type": "code",
   "execution_count": 40,
   "metadata": {},
   "outputs": [
    {
     "data": {
      "text/plain": [
       "929"
      ]
     },
     "execution_count": 40,
     "metadata": {},
     "output_type": "execute_result"
    }
   ],
   "source": [
    "data_df.Ticket.nunique()"
   ]
  },
  {
   "cell_type": "code",
   "execution_count": 41,
   "metadata": {},
   "outputs": [],
   "source": [
    "data_featured.drop('Ticket', axis=1, inplace=True)"
   ]
  },
  {
   "cell_type": "markdown",
   "metadata": {},
   "source": [
    "### Embarked"
   ]
  },
  {
   "cell_type": "code",
   "execution_count": 42,
   "metadata": {},
   "outputs": [
    {
     "data": {
      "image/png": "[encoded data removed]",
      "text/plain": [
       "<Figure size 864x432 with 1 Axes>"
      ]
     },
     "metadata": {
      "needs_background": "light"
     },
     "output_type": "display_data"
    }
   ],
   "source": [
    "plt.figure(figsize=(12,6))\n",
    "\n",
    "sns.barplot(x='Embarked', y='Survived', data=data_featured);\n",
    "\n",
    "plt.xlabel('Embarked')\n",
    "plt.ylabel('Count Survived')\n",
    "plt.title('Embarked', fontsize=15);"
   ]
  },
  {
   "cell_type": "code",
   "execution_count": 43,
   "metadata": {},
   "outputs": [
    {
     "data": {
      "text/plain": [
       "S    916\n",
       "C    270\n",
       "Q    123\n",
       "Name: Embarked, dtype: int64"
      ]
     },
     "execution_count": 43,
     "metadata": {},
     "output_type": "execute_result"
    }
   ],
   "source": [
    "data_df.Embarked.value_counts()"
   ]
  },
  {
   "cell_type": "code",
   "execution_count": 44,
   "metadata": {},
   "outputs": [],
   "source": [
    "Embarked = pd.get_dummies(data_featured[['Embarked']])\n",
    "data_featured = pd.concat([data_featured, Embarked], axis=1)\n",
    "data_featured.drop(columns = 'Embarked', inplace = True)"
   ]
  },
  {
   "cell_type": "code",
   "execution_count": 45,
   "metadata": {},
   "outputs": [
    {
     "data": {
      "text/html": [
       "<div>\n",
       "<style scoped>\n",
       "    .dataframe tbody tr th:only-of-type {\n",
       "        vertical-align: middle;\n",
       "    }\n",
       "\n",
       "    .dataframe tbody tr th {\n",
       "        vertical-align: top;\n",
       "    }\n",
       "\n",
       "    .dataframe thead th {\n",
       "        text-align: right;\n",
       "    }\n",
       "</style>\n",
       "<table border=\"1\" class=\"dataframe\">\n",
       "  <thead>\n",
       "    <tr style=\"text-align: right;\">\n",
       "      <th></th>\n",
       "      <th>Survived</th>\n",
       "      <th>Age</th>\n",
       "      <th>Fare</th>\n",
       "      <th>Male</th>\n",
       "      <th>Female</th>\n",
       "      <th>Alone</th>\n",
       "      <th>Embarked_C</th>\n",
       "      <th>Embarked_Q</th>\n",
       "      <th>Embarked_S</th>\n",
       "    </tr>\n",
       "  </thead>\n",
       "  <tbody>\n",
       "    <tr>\n",
       "      <th>0</th>\n",
       "      <td>0.0</td>\n",
       "      <td>22.0</td>\n",
       "      <td>7.2500</td>\n",
       "      <td>1</td>\n",
       "      <td>0</td>\n",
       "      <td>0</td>\n",
       "      <td>0</td>\n",
       "      <td>0</td>\n",
       "      <td>1</td>\n",
       "    </tr>\n",
       "    <tr>\n",
       "      <th>1</th>\n",
       "      <td>1.0</td>\n",
       "      <td>38.0</td>\n",
       "      <td>71.2833</td>\n",
       "      <td>0</td>\n",
       "      <td>1</td>\n",
       "      <td>0</td>\n",
       "      <td>1</td>\n",
       "      <td>0</td>\n",
       "      <td>0</td>\n",
       "    </tr>\n",
       "    <tr>\n",
       "      <th>2</th>\n",
       "      <td>1.0</td>\n",
       "      <td>26.0</td>\n",
       "      <td>7.9250</td>\n",
       "      <td>0</td>\n",
       "      <td>1</td>\n",
       "      <td>1</td>\n",
       "      <td>0</td>\n",
       "      <td>0</td>\n",
       "      <td>1</td>\n",
       "    </tr>\n",
       "    <tr>\n",
       "      <th>3</th>\n",
       "      <td>1.0</td>\n",
       "      <td>35.0</td>\n",
       "      <td>53.1000</td>\n",
       "      <td>0</td>\n",
       "      <td>1</td>\n",
       "      <td>0</td>\n",
       "      <td>0</td>\n",
       "      <td>0</td>\n",
       "      <td>1</td>\n",
       "    </tr>\n",
       "    <tr>\n",
       "      <th>4</th>\n",
       "      <td>0.0</td>\n",
       "      <td>35.0</td>\n",
       "      <td>8.0500</td>\n",
       "      <td>1</td>\n",
       "      <td>0</td>\n",
       "      <td>1</td>\n",
       "      <td>0</td>\n",
       "      <td>0</td>\n",
       "      <td>1</td>\n",
       "    </tr>\n",
       "    <tr>\n",
       "      <th>...</th>\n",
       "      <td>...</td>\n",
       "      <td>...</td>\n",
       "      <td>...</td>\n",
       "      <td>...</td>\n",
       "      <td>...</td>\n",
       "      <td>...</td>\n",
       "      <td>...</td>\n",
       "      <td>...</td>\n",
       "      <td>...</td>\n",
       "    </tr>\n",
       "    <tr>\n",
       "      <th>1304</th>\n",
       "      <td>NaN</td>\n",
       "      <td>30.0</td>\n",
       "      <td>8.0500</td>\n",
       "      <td>1</td>\n",
       "      <td>0</td>\n",
       "      <td>1</td>\n",
       "      <td>0</td>\n",
       "      <td>0</td>\n",
       "      <td>1</td>\n",
       "    </tr>\n",
       "    <tr>\n",
       "      <th>1305</th>\n",
       "      <td>NaN</td>\n",
       "      <td>39.0</td>\n",
       "      <td>108.9000</td>\n",
       "      <td>0</td>\n",
       "      <td>1</td>\n",
       "      <td>1</td>\n",
       "      <td>1</td>\n",
       "      <td>0</td>\n",
       "      <td>0</td>\n",
       "    </tr>\n",
       "    <tr>\n",
       "      <th>1306</th>\n",
       "      <td>NaN</td>\n",
       "      <td>38.0</td>\n",
       "      <td>7.2500</td>\n",
       "      <td>1</td>\n",
       "      <td>0</td>\n",
       "      <td>1</td>\n",
       "      <td>0</td>\n",
       "      <td>0</td>\n",
       "      <td>1</td>\n",
       "    </tr>\n",
       "    <tr>\n",
       "      <th>1307</th>\n",
       "      <td>NaN</td>\n",
       "      <td>30.0</td>\n",
       "      <td>8.0500</td>\n",
       "      <td>1</td>\n",
       "      <td>0</td>\n",
       "      <td>1</td>\n",
       "      <td>0</td>\n",
       "      <td>0</td>\n",
       "      <td>1</td>\n",
       "    </tr>\n",
       "    <tr>\n",
       "      <th>1308</th>\n",
       "      <td>NaN</td>\n",
       "      <td>30.0</td>\n",
       "      <td>22.3583</td>\n",
       "      <td>1</td>\n",
       "      <td>0</td>\n",
       "      <td>0</td>\n",
       "      <td>1</td>\n",
       "      <td>0</td>\n",
       "      <td>0</td>\n",
       "    </tr>\n",
       "  </tbody>\n",
       "</table>\n",
       "<p>1309 rows × 9 columns</p>\n",
       "</div>"
      ],
      "text/plain": [
       "      Survived   Age      Fare  Male  Female  Alone  Embarked_C  Embarked_Q  \\\n",
       "0          0.0  22.0    7.2500     1       0      0           0           0   \n",
       "1          1.0  38.0   71.2833     0       1      0           1           0   \n",
       "2          1.0  26.0    7.9250     0       1      1           0           0   \n",
       "3          1.0  35.0   53.1000     0       1      0           0           0   \n",
       "4          0.0  35.0    8.0500     1       0      1           0           0   \n",
       "...        ...   ...       ...   ...     ...    ...         ...         ...   \n",
       "1304       NaN  30.0    8.0500     1       0      1           0           0   \n",
       "1305       NaN  39.0  108.9000     0       1      1           1           0   \n",
       "1306       NaN  38.0    7.2500     1       0      1           0           0   \n",
       "1307       NaN  30.0    8.0500     1       0      1           0           0   \n",
       "1308       NaN  30.0   22.3583     1       0      0           1           0   \n",
       "\n",
       "      Embarked_S  \n",
       "0              1  \n",
       "1              0  \n",
       "2              1  \n",
       "3              1  \n",
       "4              1  \n",
       "...          ...  \n",
       "1304           1  \n",
       "1305           0  \n",
       "1306           1  \n",
       "1307           1  \n",
       "1308           0  \n",
       "\n",
       "[1309 rows x 9 columns]"
      ]
     },
     "execution_count": 45,
     "metadata": {},
     "output_type": "execute_result"
    }
   ],
   "source": [
    "data_featured"
   ]
  },
  {
   "cell_type": "markdown",
   "metadata": {},
   "source": [
    "## Data Preproccessing"
   ]
  },
  {
   "cell_type": "code",
   "execution_count": 46,
   "metadata": {},
   "outputs": [],
   "source": [
    "def get_features_and_labels(train_frame, test_frame):\n",
    "    '''\n",
    "    Transforms and scales the input data and returns numpy arrays for\n",
    "    training and testing inputs and targets.\n",
    "    '''\n",
    "    # Convert values to floats\n",
    "    arr = np.array(train_frame, dtype=np.float)\n",
    "    test_arr = np.array(test_frame, dtype=np.float)\n",
    "    \n",
    "    # Using the first column as the target variable\n",
    "    X, y = arr[:, 1:], arr[:, 0]\n",
    "    X_test = test_arr[:, 1:]\n",
    "    \n",
    "    # Use 85% of the data for training,  but cross validate over the entire dataset.\n",
    "    from sklearn.model_selection import train_test_split\n",
    "    X_train, X_val, y_train, y_val = train_test_split(X, y, test_size=0.15)\n",
    "    #X_val = X\n",
    "    #y_val = y\n",
    "    \n",
    "    # If values are missing we could impute them from the training data\n",
    "    #from sklearn.preprocessing import Imputer\n",
    "    #imputer = Imputer(strategy='mean')\n",
    "    #imputer.fit(X_train)\n",
    "    #X_train = imputer.transform(X_train)\n",
    "    #X_test = imputer.transform(X_test)\n",
    "    \n",
    "    # Normalize the attribute values to mean=0 and variance=1\n",
    "    from sklearn.preprocessing import StandardScaler\n",
    "    scaler = StandardScaler()\n",
    "    \n",
    "    # Fit the scaler based on the training data, then apply the same\n",
    "    # scaling to both training and test sets.\n",
    "    scaler.fit(X)\n",
    "    X_train = scaler.transform(X_train)\n",
    "    X_val = scaler.transform(X_val)\n",
    "    \n",
    "    scaler.fit(X_test)\n",
    "    X_test = scaler.transform(X_test)\n",
    "\n",
    "    # Return the training and test sets\n",
    "    return X_train, X_val, y_train, y_val, X_test"
   ]
  },
  {
   "cell_type": "code",
   "execution_count": 47,
   "metadata": {},
   "outputs": [],
   "source": [
    "train_frame = data_featured.loc[:ntrain-1]\n",
    "test_frame = data_featured.loc[ntrain:]"
   ]
  },
  {
   "cell_type": "code",
   "execution_count": 48,
   "metadata": {},
   "outputs": [],
   "source": [
    "X_train, X_val, y_train, y_val, X_test = get_features_and_labels(train_frame, test_frame)"
   ]
  },
  {
   "cell_type": "markdown",
   "metadata": {},
   "source": [
    "## Modeling"
   ]
  },
  {
   "cell_type": "code",
   "execution_count": 49,
   "metadata": {},
   "outputs": [],
   "source": [
    "from sklearn.model_selection import ShuffleSplit\n",
    "from sklearn.linear_model import LogisticRegressionCV\n",
    "from sklearn.neural_network import MLPClassifier\n",
    "from sklearn.neighbors import KNeighborsClassifier\n",
    "from sklearn.svm import SVC\n",
    "from sklearn.gaussian_process import GaussianProcessClassifier\n",
    "from sklearn.gaussian_process.kernels import RBF\n",
    "from sklearn.tree import DecisionTreeClassifier\n",
    "from sklearn.ensemble import RandomForestClassifier, AdaBoostClassifier, StackingClassifier\n",
    "from sklearn.naive_bayes import GaussianNB\n",
    "from sklearn.discriminant_analysis import QuadraticDiscriminantAnalysis\n",
    "from sklearn.metrics import precision_recall_curve, f1_score\n",
    "from lightgbm import LGBMClassifier\n",
    "from xgboost import XGBClassifier\n",
    "from sklearn.ensemble import StackingClassifier\n",
    "from catboost import CatBoostClassifier"
   ]
  },
  {
   "cell_type": "code",
   "execution_count": 50,
   "metadata": {},
   "outputs": [],
   "source": [
    "models={}\n",
    "sns.set_style('darkgrid')"
   ]
  },
  {
   "cell_type": "markdown",
   "metadata": {},
   "source": [
    "### Logistic RegressionCV"
   ]
  },
  {
   "cell_type": "code",
   "execution_count": 51,
   "metadata": {},
   "outputs": [
    {
     "name": "stdout",
     "output_type": "stream",
     "text": [
      "C for the best model: [0.0066]\n",
      "LogisticRegressionCV: Score=0.821\n"
     ]
    },
    {
     "data": {
      "text/plain": [
       "<matplotlib.legend.Legend at 0x26f4c5acc10>"
      ]
     },
     "execution_count": 51,
     "metadata": {},
     "output_type": "execute_result"
    },
    {
     "data": {
      "image/png": "[encoded data removed]",
      "text/plain": [
       "<Figure size 648x648 with 1 Axes>"
      ]
     },
     "metadata": {},
     "output_type": "display_data"
    }
   ],
   "source": [
    "name = 'logistic'\n",
    "cv = ShuffleSplit(n_splits=20, test_size=0.2, random_state=0)\n",
    "grid = {'Cs':np.arange(0.0001,0.01,0.0001)}\n",
    "models[name] = LogisticRegressionCV(cv=cv, **grid)\n",
    "models[name].fit(X_train, y_train)\n",
    "print(f\"C for the best model: {models[name].C_}\")\n",
    "\n",
    "score = models[name].score(X_val, y_val)\n",
    "print('LogisticRegressionCV: Score={:.3f}'.format(score))\n",
    "f1 = f1_score(y_val, models[name].predict(X_val))\n",
    "y_prob = models[name].decision_function(X_val)\n",
    "precision, recall, _ = precision_recall_curve(y_val, y_prob)\n",
    "\n",
    "plt.figure(figsize=(9,9))\n",
    "plt.plot(recall, precision, label = 'LogisticRegressionCV: F1 Score={:.3f}'.format(f1))\n",
    "plt.title('Precision-Recall Curves')\n",
    "plt.ylabel('Precision')\n",
    "plt.xlabel('Recall')\n",
    "plt.legend(loc='lower left')"
   ]
  },
  {
   "cell_type": "markdown",
   "metadata": {},
   "source": [
    "### K-NearestNeighbours"
   ]
  },
  {
   "cell_type": "code",
   "execution_count": 52,
   "metadata": {},
   "outputs": [
    {
     "name": "stdout",
     "output_type": "stream",
     "text": [
      "K-NearestNeighbours: Score=0.799\n"
     ]
    },
    {
     "data": {
      "text/plain": [
       "<matplotlib.legend.Legend at 0x26f4c7570d0>"
      ]
     },
     "execution_count": 52,
     "metadata": {},
     "output_type": "execute_result"
    },
    {
     "data": {
      "image/png": "[encoded data removed]",
      "text/plain": [
       "<Figure size 648x648 with 1 Axes>"
      ]
     },
     "metadata": {},
     "output_type": "display_data"
    }
   ],
   "source": [
    "name = 'knn'\n",
    "#cv = ShuffleSplit(n_splits=20, test_size=0.2, random_state=0)\n",
    "#grid = {'Cs':np.arange(0.0001,0.01,0.0001)}\n",
    "models[name] = KNeighborsClassifier(3)\n",
    "models[name].fit(X_train, y_train)\n",
    "#print(f\"C for the best model: {models[name].C_}\")\n",
    "\n",
    "score = models[name].score(X_val, y_val)\n",
    "print('K-NearestNeighbours: Score={:.3f}'.format(score))\n",
    "f1 = f1_score(y_val, models[name].predict(X_val))\n",
    "if hasattr(models[name], \"decision_function\"):\n",
    "    y_prob = models[name].decision_function(X_val)\n",
    "else:\n",
    "    y_prob = models[name].predict_proba(X_val)[:, 1]\n",
    "precision, recall, _ = precision_recall_curve(y_val, y_prob)\n",
    "\n",
    "plt.figure(figsize=(9,9))\n",
    "plt.plot(recall, precision, label = 'K-NearestNeighbours: F1 Score={:.3f}'.format(f1))\n",
    "plt.title('Precision-Recall Curves')\n",
    "plt.xlabel('Recall')\n",
    "plt.ylabel('Precision')\n",
    "plt.legend(loc='lower left')"
   ]
  },
  {
   "cell_type": "markdown",
   "metadata": {},
   "source": [
    "### Linear SVM"
   ]
  },
  {
   "cell_type": "code",
   "execution_count": 53,
   "metadata": {},
   "outputs": [
    {
     "name": "stdout",
     "output_type": "stream",
     "text": [
      "C for the best model: 0.1\n",
      "LinearSVM: Score=0.821\n"
     ]
    },
    {
     "data": {
      "text/plain": [
       "<matplotlib.legend.Legend at 0x26f4eb26c10>"
      ]
     },
     "execution_count": 53,
     "metadata": {},
     "output_type": "execute_result"
    },
    {
     "data": {
      "image/png": "[encoded data removed]",
      "text/plain": [
       "<Figure size 648x648 with 1 Axes>"
      ]
     },
     "metadata": {},
     "output_type": "display_data"
    }
   ],
   "source": [
    "name = 'linearsvm'\n",
    "#cv = ShuffleSplit(n_splits=20, test_size=0.2, random_state=0)\n",
    "Cs = np.arange(0.1,10,0.01)\n",
    "scores= []\n",
    "for C in Cs:\n",
    "    models[name] = SVC(kernel=\"linear\", C=C)\n",
    "    models[name].fit(X_train, y_train)\n",
    "    score = models[name].score(X_val, y_val)\n",
    "    scores.append((C,score))\n",
    "\n",
    "scores.sort(key=lambda x: x[1], reverse=True)\n",
    "best_C = scores[0][0]\n",
    "print(f\"C for the best model: {best_C}\")\n",
    "models[name] = SVC(kernel=\"linear\", C=best_C)\n",
    "models[name].fit(X_train, y_train)\n",
    "\n",
    "score = models[name].score(X_val, y_val)\n",
    "print('LinearSVM: Score={:.3f}'.format(score))\n",
    "f1 = f1_score(y_val, models[name].predict(X_val))\n",
    "if hasattr(models[name], \"decision_function\"):\n",
    "    y_prob = models[name].decision_function(X_val)\n",
    "else:\n",
    "    y_prob = models[name].predict_proba(X_val)[:, 1]\n",
    "precision, recall, _ = precision_recall_curve(y_val, y_prob)\n",
    "\n",
    "plt.figure(figsize=(9,9))\n",
    "plt.plot(recall, precision, label = 'LinearSVM: F1 Score={:.3f}'.format(f1))\n",
    "plt.title('Precision-Recall Curves')\n",
    "plt.xlabel('Recall')\n",
    "plt.ylabel('Precision')\n",
    "plt.legend(loc='lower left')"
   ]
  },
  {
   "cell_type": "markdown",
   "metadata": {},
   "source": [
    "### RBF SVM"
   ]
  },
  {
   "cell_type": "code",
   "execution_count": 54,
   "metadata": {},
   "outputs": [
    {
     "name": "stdout",
     "output_type": "stream",
     "text": [
      "Parameters for the best model (C, gamma): (3.8000000000000025, 0.5)\n",
      "RbfSVM: Score=0.836\n"
     ]
    },
    {
     "data": {
      "text/plain": [
       "<matplotlib.legend.Legend at 0x26f4eceb5b0>"
      ]
     },
     "execution_count": 54,
     "metadata": {},
     "output_type": "execute_result"
    },
    {
     "data": {
      "image/png": "[encoded data removed]",
      "text/plain": [
       "<Figure size 648x648 with 1 Axes>"
      ]
     },
     "metadata": {},
     "output_type": "display_data"
    }
   ],
   "source": [
    "name = 'rbfsvm'\n",
    "#cv = ShuffleSplit(n_splits=20, test_size=0.2, random_state=0)\n",
    "Cs = np.arange(1,10,0.1)\n",
    "gammas = [0.01, 0.1, 0.5, 1, 1.5, 2]\n",
    "scores= []\n",
    "for C in Cs:\n",
    "    for gamma in gammas:\n",
    "        models[name] = SVC(kernel=\"rbf\", C=C, gamma=gamma)\n",
    "        models[name].fit(X_train, y_train)\n",
    "        score = models[name].score(X_val, y_val)\n",
    "        scores.append((C, gamma,score))\n",
    "\n",
    "scores.sort(key=lambda x: x[2], reverse=True)\n",
    "best_C = scores[0][0]\n",
    "best_gamma = scores[0][1]\n",
    "print(f\"Parameters for the best model (C, gamma): {(best_C, best_gamma)}\")\n",
    "models[name] = SVC(kernel=\"rbf\", C=best_C, gamma=best_gamma)\n",
    "models[name].fit(X_train, y_train)\n",
    "\n",
    "score = models[name].score(X_val, y_val)\n",
    "print('RbfSVM: Score={:.3f}'.format(score))\n",
    "f1 = f1_score(y_val, models[name].predict(X_val))\n",
    "if hasattr(models[name], \"decision_function\"):\n",
    "    y_prob = models[name].decision_function(X_val)\n",
    "else:\n",
    "    y_prob = models[name].predict_proba(X_val)[:, 1]\n",
    "precision, recall, _ = precision_recall_curve(y_val, y_prob)\n",
    "\n",
    "plt.figure(figsize=(9,9))\n",
    "plt.plot(recall, precision, label = 'RbfSVM: F1 Score={:.3f}'.format(f1))\n",
    "plt.title('Precision-Recall Curves')\n",
    "plt.xlabel('Recall')\n",
    "plt.ylabel('Precision')\n",
    "plt.legend(loc='lower left')"
   ]
  },
  {
   "cell_type": "markdown",
   "metadata": {},
   "source": [
    "### Sigmoid SVM"
   ]
  },
  {
   "cell_type": "code",
   "execution_count": 55,
   "metadata": {},
   "outputs": [
    {
     "name": "stdout",
     "output_type": "stream",
     "text": [
      "Parameters for the best model (C, gamma): (0.55, 0.05)\n",
      "SigmoidSVM: Score=0.828\n"
     ]
    },
    {
     "data": {
      "text/plain": [
       "<matplotlib.legend.Legend at 0x26f4ed35d00>"
      ]
     },
     "execution_count": 55,
     "metadata": {},
     "output_type": "execute_result"
    },
    {
     "data": {
      "image/png": "[encoded data removed]",
      "text/plain": [
       "<Figure size 648x648 with 1 Axes>"
      ]
     },
     "metadata": {},
     "output_type": "display_data"
    }
   ],
   "source": [
    "name = 'sigmoidsvm'\n",
    "#cv = ShuffleSplit(n_splits=20, test_size=0.2, random_state=0)\n",
    "Cs = np.arange(0.5,1,0.05)\n",
    "gammas = [0.01, 0.05, 0.1, 0.2, 0.3, 0.4, 0.5]\n",
    "scores= []\n",
    "for C in Cs:\n",
    "    for gamma in gammas:\n",
    "        models[name] = SVC(kernel=\"sigmoid\", C=C, gamma=gamma)\n",
    "        models[name].fit(X_train, y_train)\n",
    "        score = models[name].score(X_val, y_val)\n",
    "        scores.append((C, gamma,score))\n",
    "\n",
    "scores.sort(key=lambda x: x[2], reverse=True)\n",
    "best_C = scores[0][0]\n",
    "best_gamma = scores[0][1]\n",
    "print(f\"Parameters for the best model (C, gamma): {(best_C, best_gamma)}\")\n",
    "models[name] = SVC(kernel=\"sigmoid\", C=best_C, gamma=best_gamma)\n",
    "models[name].fit(X_train, y_train)\n",
    "\n",
    "score = models[name].score(X_val, y_val)\n",
    "print('SigmoidSVM: Score={:.3f}'.format(score))\n",
    "f1 = f1_score(y_val, models[name].predict(X_val))\n",
    "if hasattr(models[name], \"decision_function\"):\n",
    "    y_prob = models[name].decision_function(X_val)\n",
    "else:\n",
    "    y_prob = models[name].predict_proba(X_val)[:, 1]\n",
    "precision, recall, _ = precision_recall_curve(y_val, y_prob)\n",
    "\n",
    "plt.figure(figsize=(9,9))\n",
    "plt.plot(recall, precision, label = 'SigmoidSVM: F1 Score={:.3f}'.format(f1))\n",
    "plt.title('Precision-Recall Curves')\n",
    "plt.xlabel('Recall')\n",
    "plt.ylabel('Precision')\n",
    "plt.legend(loc='lower left')"
   ]
  },
  {
   "cell_type": "markdown",
   "metadata": {},
   "source": [
    "### GaussianProcess"
   ]
  },
  {
   "cell_type": "code",
   "execution_count": 56,
   "metadata": {},
   "outputs": [
    {
     "name": "stdout",
     "output_type": "stream",
     "text": [
      "Parameters for the best model: 0.05\n",
      "GaussianProcess: Score=0.813\n"
     ]
    },
    {
     "data": {
      "text/plain": [
       "<matplotlib.legend.Legend at 0x26f4f1a1f40>"
      ]
     },
     "execution_count": 56,
     "metadata": {},
     "output_type": "execute_result"
    },
    {
     "data": {
      "image/png": "[encoded data removed]",
      "text/plain": [
       "<Figure size 648x648 with 1 Axes>"
      ]
     },
     "metadata": {},
     "output_type": "display_data"
    }
   ],
   "source": [
    "name = 'gpc'\n",
    "#cv = ShuffleSplit(n_splits=20, test_size=0.2, random_state=0)\n",
    "Cs = np.arange(0.05,1,0.05)\n",
    "scores= []\n",
    "for C in Cs:\n",
    "    models[name] = GaussianProcessClassifier(1.0 * RBF(C))\n",
    "    models[name].fit(X_train, y_train)\n",
    "    score = models[name].score(X_val, y_val)\n",
    "    scores.append((C,score))\n",
    "\n",
    "scores.sort(key=lambda x: x[1], reverse=True)\n",
    "best_C = scores[0][0]\n",
    "print(f\"Parameters for the best model: {(best_C)}\")\n",
    "models[name] = GaussianProcessClassifier(1.0 * RBF(best_C))\n",
    "models[name].fit(X_train, y_train)\n",
    "\n",
    "score = models[name].score(X_val, y_val)\n",
    "print('GaussianProcess: Score={:.3f}'.format(score))\n",
    "f1 = f1_score(y_val, models[name].predict(X_val))\n",
    "if hasattr(models[name], \"decision_function\"):\n",
    "    y_prob = models[name].decision_function(X_val)\n",
    "else:\n",
    "    y_prob = models[name].predict_proba(X_val)[:, 1]\n",
    "precision, recall, _ = precision_recall_curve(y_val, y_prob)\n",
    "\n",
    "plt.figure(figsize=(9,9))\n",
    "plt.plot(recall, precision, label = 'GaussianProcess: F1 Score={:.3f}'.format(f1))\n",
    "plt.title('Precision-Recall Curves')\n",
    "plt.xlabel('Recall')\n",
    "plt.ylabel('Precision')\n",
    "plt.legend(loc='lower left')"
   ]
  },
  {
   "cell_type": "markdown",
   "metadata": {},
   "source": [
    "### DecisionTree"
   ]
  },
  {
   "cell_type": "code",
   "execution_count": 57,
   "metadata": {},
   "outputs": [
    {
     "name": "stdout",
     "output_type": "stream",
     "text": [
      "Parameters for the best model (msl, mss, max_depth): (1, 2, 2)\n",
      "DecisionTree: Score=0.821\n"
     ]
    },
    {
     "data": {
      "text/plain": [
       "<matplotlib.legend.Legend at 0x26f4f148fa0>"
      ]
     },
     "execution_count": 57,
     "metadata": {},
     "output_type": "execute_result"
    },
    {
     "data": {
      "image/png": "[encoded data removed]",
      "text/plain": [
       "<Figure size 648x648 with 1 Axes>"
      ]
     },
     "metadata": {},
     "output_type": "display_data"
    }
   ],
   "source": [
    "name = 'dtc'\n",
    "#cv = ShuffleSplit(n_splits=20, test_size=0.2, random_state=0)\n",
    "#Cs = np.arange(0.5,10,0.5)\n",
    "msls = [1, 5, 10, 15, 20, 30]\n",
    "msss = [2, 5, 10, 15, 20, 30]\n",
    "max_depths = [2, 3, 4, 5, 10, None]\n",
    "scores= []\n",
    "for msl in msls:\n",
    "    for mss in msss:\n",
    "        for md in max_depths:\n",
    "            models[name] = DecisionTreeClassifier(min_samples_leaf=msl, min_samples_split=mss, max_depth=md)\n",
    "            models[name].fit(X_train, y_train)\n",
    "            score = models[name].score(X_val, y_val)\n",
    "            scores.append((msl, mss, md, score))\n",
    "\n",
    "scores.sort(key=lambda x: x[3], reverse=True)\n",
    "best_msl = scores[0][0]\n",
    "best_mss = scores[0][1]\n",
    "best_md = scores[0][2]\n",
    "print(f\"Parameters for the best model (msl, mss, max_depth): {(best_msl, best_mss, best_md)}\")\n",
    "models[name] = DecisionTreeClassifier(min_samples_leaf=best_msl, min_samples_split=best_mss, max_depth=best_md)\n",
    "models[name].fit(X_train, y_train)\n",
    "\n",
    "score = models[name].score(X_val, y_val)\n",
    "print('DecisionTree: Score={:.3f}'.format(score))\n",
    "f1 = f1_score(y_val, models[name].predict(X_val))\n",
    "if hasattr(models[name], \"decision_function\"):\n",
    "    y_prob = models[name].decision_function(X_val)\n",
    "else:\n",
    "    y_prob = models[name].predict_proba(X_val)[:, 1]\n",
    "precision, recall, _ = precision_recall_curve(y_val, y_prob)\n",
    "\n",
    "plt.figure(figsize=(9,9))\n",
    "plt.plot(recall, precision, label = 'DecisionTree: F1 Score={:.3f}'.format(f1))\n",
    "plt.title('Precision-Recall Curves')\n",
    "plt.xlabel('Recall')\n",
    "plt.ylabel('Precision')\n",
    "plt.legend(loc='lower left')"
   ]
  },
  {
   "cell_type": "markdown",
   "metadata": {},
   "source": [
    "### RandomForest"
   ]
  },
  {
   "cell_type": "code",
   "execution_count": 58,
   "metadata": {},
   "outputs": [
    {
     "name": "stdout",
     "output_type": "stream",
     "text": [
      "Parameters for the best model (msl, mss, max_depth): (1, 10, None)\n",
      "RandomForest: Score=0.828\n"
     ]
    },
    {
     "data": {
      "text/plain": [
       "<matplotlib.legend.Legend at 0x26f4f4bb0d0>"
      ]
     },
     "execution_count": 58,
     "metadata": {},
     "output_type": "execute_result"
    },
    {
     "data": {
      "image/png": "[encoded data removed]",
      "text/plain": [
       "<Figure size 648x648 with 1 Axes>"
      ]
     },
     "metadata": {},
     "output_type": "display_data"
    }
   ],
   "source": [
    "name = 'rfc'\n",
    "#cv = ShuffleSplit(n_splits=20, test_size=0.2, random_state=0)\n",
    "#Cs = np.arange(0.5,10,0.5)\n",
    "msls = [1, 5, 10, 15, 20, 30]\n",
    "msss = [2, 5, 10, 15, 20, 30]\n",
    "max_depths = [2, 3, 4, 5, 10, None]\n",
    "scores= []\n",
    "for msl in msls:\n",
    "    for mss in msss:\n",
    "        for md in max_depths:\n",
    "            models[name] = RandomForestClassifier(min_samples_leaf=msl, \n",
    "                                                  min_samples_split=mss, \n",
    "                                                  max_depth=md, n_estimators=500)\n",
    "            models[name].fit(X_train, y_train)\n",
    "            score = models[name].score(X_val, y_val)\n",
    "            scores.append((msl, mss, md, score))\n",
    "\n",
    "scores.sort(key=lambda x: x[3], reverse=True)\n",
    "best_msl = scores[0][0]\n",
    "best_mss = scores[0][1]\n",
    "best_md = scores[0][2]\n",
    "print(f\"Parameters for the best model (msl, mss, max_depth): {(best_msl, best_mss, best_md)}\")\n",
    "models[name] = RandomForestClassifier(min_samples_leaf=best_msl, \n",
    "                                      min_samples_split=best_mss, \n",
    "                                      max_depth=best_md, n_estimators=500)\n",
    "models[name].fit(X_train, y_train)\n",
    "\n",
    "score = models[name].score(X_val, y_val)\n",
    "print('RandomForest: Score={:.3f}'.format(score))\n",
    "f1 = f1_score(y_val, models[name].predict(X_val))\n",
    "if hasattr(models[name], \"decision_function\"):\n",
    "    y_prob = models[name].decision_function(X_val)\n",
    "else:\n",
    "    y_prob = models[name].predict_proba(X_val)[:, 1]\n",
    "precision, recall, _ = precision_recall_curve(y_val, y_prob)\n",
    "\n",
    "plt.figure(figsize=(9,9))\n",
    "plt.plot(recall, precision, label = 'RandomForest: F1 Score={:.3f}'.format(f1))\n",
    "plt.title('Precision-Recall Curves')\n",
    "plt.xlabel('Recall')\n",
    "plt.ylabel('Precision')\n",
    "plt.legend(loc='lower left')"
   ]
  },
  {
   "cell_type": "markdown",
   "metadata": {},
   "source": [
    "### NeuralNetwork"
   ]
  },
  {
   "cell_type": "code",
   "execution_count": 59,
   "metadata": {},
   "outputs": [
    {
     "name": "stdout",
     "output_type": "stream",
     "text": [
      "Params for the best model: (5e-05, 'logistic', 0.1, 0.8, 0.999)\n",
      "NeuralNetwork: Score=0.821\n"
     ]
    },
    {
     "data": {
      "image/png": "[encoded data removed]",
      "text/plain": [
       "<Figure size 648x648 with 1 Axes>"
      ]
     },
     "metadata": {},
     "output_type": "display_data"
    }
   ],
   "source": [
    "name = 'neuralnet'\n",
    "#cv = ShuffleSplit(n_splits=20, test_size=0.2, random_state=0)\n",
    "alphas = [0.00005, 0.0001, 0.005, 0.01]\n",
    "activations = ['logistic', 'tanh', 'relu']\n",
    "learning_rate_inits = [0.001, 0.005, 0.01, 0.1]\n",
    "beta_1s = [0.9, 0.85, 0.8]\n",
    "beta_2s = [0.999, 0.995, 0.99]\n",
    "scores= []\n",
    "for alpha in alphas:\n",
    "    for activation in activations:\n",
    "        for lr_init in learning_rate_inits:\n",
    "            for beta1 in beta_1s:\n",
    "                for beta2 in beta_2s:\n",
    "                    models[name] = MLPClassifier(hidden_layer_sizes=(18, 36, 18), max_iter = 10000, \n",
    "                                                 alpha=alpha, activation=activation, \n",
    "                                                 learning_rate_init=lr_init, beta_1=beta1, \n",
    "                                                beta_2=beta2, solver='adam', early_stopping=True)\n",
    "                    models[name].fit(X_train, y_train)\n",
    "                    score = models[name].score(X_val, y_val)\n",
    "                    scores.append((alpha, activation, lr_init, beta1, beta2, score))\n",
    "\n",
    "scores.sort(key=lambda x: x[5], reverse=True)\n",
    "best_alpha = scores[0][0]\n",
    "best_activation = scores[0][1]\n",
    "best_lr_init = scores[0][2]\n",
    "best_beta1 = scores[0][3]\n",
    "best_beta2 = scores[0][4]\n",
    "print(f\"Params for the best model: {scores[0][0:5]}\")\n",
    "models[name] = MLPClassifier(hidden_layer_sizes=(18, 36, 18), max_iter = 10000, \n",
    "                             alpha=best_alpha, activation=best_activation, \n",
    "                             learning_rate_init=best_lr_init, beta_1=best_beta1, \n",
    "                             beta_2=best_beta2, solver='adam', early_stopping=True)\n",
    "models[name].fit(X_train, y_train)\n",
    "\n",
    "score = models[name].score(X_val, y_val)\n",
    "print('NeuralNetwork: Score={:.3f}'.format(score))\n",
    "f1 = f1_score(y_val, models[name].predict(X_val))\n",
    "if hasattr(models[name], \"decision_function\"):\n",
    "    y_prob = models[name].decision_function(X_val)\n",
    "else:\n",
    "    y_prob = models[name].predict_proba(X_val)[:, 1]\n",
    "precision, recall, _ = precision_recall_curve(y_val, y_prob)\n",
    "\n",
    "plt.figure(figsize=(9,9))\n",
    "plt.plot(recall, precision, label = 'NeuralNetwork: F1 Score={:.3f}'.format(f1))\n",
    "plt.title('Precision-Recall Curves')\n",
    "plt.xlabel('Recall')\n",
    "plt.ylabel('Precision')\n",
    "plt.legend(loc='lower left');"
   ]
  },
  {
   "cell_type": "markdown",
   "metadata": {},
   "source": [
    "### AdaBoost"
   ]
  },
  {
   "cell_type": "code",
   "execution_count": 60,
   "metadata": {
    "scrolled": false
   },
   "outputs": [
    {
     "name": "stdout",
     "output_type": "stream",
     "text": [
      "Parameters for the best model (lr, n_estimators): (0.05, 50)\n",
      "AdaBoost: Score=0.836\n"
     ]
    },
    {
     "data": {
      "text/plain": [
       "<matplotlib.legend.Legend at 0x26f519bff40>"
      ]
     },
     "execution_count": 60,
     "metadata": {},
     "output_type": "execute_result"
    },
    {
     "data": {
      "image/png": "[encoded data removed]",
      "text/plain": [
       "<Figure size 648x648 with 1 Axes>"
      ]
     },
     "metadata": {},
     "output_type": "display_data"
    }
   ],
   "source": [
    "name = 'adaboost'\n",
    "#cv = ShuffleSplit(n_splits=20, test_size=0.2, random_state=0)\n",
    "lrs = [0.05, 0.1, 0.5, 1, 2]\n",
    "n_estimators = [50, 100, 200, 500]\n",
    "scores= []\n",
    "for lr in lrs:\n",
    "    for n_estimator in n_estimators:\n",
    "        models[name] = AdaBoostClassifier(base_estimator=models['rfc'], \n",
    "                                          learning_rate=lr, n_estimators=n_estimator)\n",
    "        models[name].fit(X_train, y_train)\n",
    "        score = models[name].score(X_val, y_val)\n",
    "        scores.append((lr, n_estimator,score))\n",
    "\n",
    "scores.sort(key=lambda x: x[2], reverse=True)\n",
    "best_lr = scores[0][0]\n",
    "best_n_estimator = scores[0][1]\n",
    "print(f\"Parameters for the best model (lr, n_estimators): {(best_lr, best_n_estimator)}\")\n",
    "models[name] = AdaBoostClassifier(base_estimator=models['rfc'], \n",
    "                                  learning_rate=best_lr, n_estimators=best_n_estimator)\n",
    "models[name].fit(X_train, y_train)\n",
    "\n",
    "score = models[name].score(X_val, y_val)\n",
    "print('AdaBoost: Score={:.3f}'.format(score))\n",
    "f1 = f1_score(y_val, models[name].predict(X_val))\n",
    "if hasattr(models[name], \"decision_function\"):\n",
    "    y_prob = models[name].decision_function(X_val)\n",
    "else:\n",
    "    y_prob = models[name].predict_proba(X_val)[:, 1]\n",
    "precision, recall, _ = precision_recall_curve(y_val, y_prob)\n",
    "\n",
    "plt.figure(figsize=(9,9))\n",
    "plt.plot(recall, precision, label = 'AdaBoost: F1 Score={:.3f}'.format(f1))\n",
    "plt.title('Precision-Recall Curves')\n",
    "plt.xlabel('Recall')\n",
    "plt.ylabel('Precision')\n",
    "plt.legend(loc='lower left')"
   ]
  },
  {
   "cell_type": "markdown",
   "metadata": {},
   "source": [
    "### Naive Bayes"
   ]
  },
  {
   "cell_type": "code",
   "execution_count": 61,
   "metadata": {},
   "outputs": [
    {
     "name": "stdout",
     "output_type": "stream",
     "text": [
      "GaussianNB: Score=0.821\n"
     ]
    },
    {
     "data": {
      "text/plain": [
       "<matplotlib.legend.Legend at 0x26fb89a66d0>"
      ]
     },
     "execution_count": 61,
     "metadata": {},
     "output_type": "execute_result"
    },
    {
     "data": {
      "image/png": "[encoded data removed]",
      "text/plain": [
       "<Figure size 648x648 with 1 Axes>"
      ]
     },
     "metadata": {},
     "output_type": "display_data"
    }
   ],
   "source": [
    "name = 'gaussiannb'\n",
    "models[name] = GaussianNB()\n",
    "models[name].fit(X_train, y_train)\n",
    "\n",
    "score = models[name].score(X_val, y_val)\n",
    "print('GaussianNB: Score={:.3f}'.format(score))\n",
    "f1 = f1_score(y_val, models[name].predict(X_val))\n",
    "if hasattr(models[name], \"decision_function\"):\n",
    "    y_prob = models[name].decision_function(X_val)\n",
    "else:\n",
    "    y_prob = models[name].predict_proba(X_val)[:, 1]\n",
    "precision, recall, _ = precision_recall_curve(y_val, y_prob)\n",
    "\n",
    "plt.figure(figsize=(9,9))\n",
    "plt.plot(recall, precision, label = 'GaussianNB: F1 Score={:.3f}'.format(f1))\n",
    "plt.title('Precision-Recall Curves')\n",
    "plt.xlabel('Recall')\n",
    "plt.ylabel('Precision')\n",
    "plt.legend(loc='lower left')"
   ]
  },
  {
   "cell_type": "markdown",
   "metadata": {},
   "source": [
    "### QuadraticDiscriminantAnalysis"
   ]
  },
  {
   "cell_type": "code",
   "execution_count": 69,
   "metadata": {},
   "outputs": [
    {
     "name": "stdout",
     "output_type": "stream",
     "text": [
      "Parameters for the best model: 0.001\n",
      "QuadraticDiscriminantAnalysis: Score=0.836\n"
     ]
    },
    {
     "name": "stderr",
     "output_type": "stream",
     "text": [
      "C:\\Users\\Sarda\\anaconda3\\lib\\site-packages\\sklearn\\discriminant_analysis.py:715: UserWarning: Variables are collinear\n",
      "  warnings.warn(\"Variables are collinear\")\n",
      "C:\\Users\\Sarda\\anaconda3\\lib\\site-packages\\sklearn\\discriminant_analysis.py:715: UserWarning: Variables are collinear\n",
      "  warnings.warn(\"Variables are collinear\")\n",
      "C:\\Users\\Sarda\\anaconda3\\lib\\site-packages\\sklearn\\discriminant_analysis.py:715: UserWarning: Variables are collinear\n",
      "  warnings.warn(\"Variables are collinear\")\n",
      "C:\\Users\\Sarda\\anaconda3\\lib\\site-packages\\sklearn\\discriminant_analysis.py:715: UserWarning: Variables are collinear\n",
      "  warnings.warn(\"Variables are collinear\")\n",
      "C:\\Users\\Sarda\\anaconda3\\lib\\site-packages\\sklearn\\discriminant_analysis.py:715: UserWarning: Variables are collinear\n",
      "  warnings.warn(\"Variables are collinear\")\n",
      "C:\\Users\\Sarda\\anaconda3\\lib\\site-packages\\sklearn\\discriminant_analysis.py:715: UserWarning: Variables are collinear\n",
      "  warnings.warn(\"Variables are collinear\")\n",
      "C:\\Users\\Sarda\\anaconda3\\lib\\site-packages\\sklearn\\discriminant_analysis.py:715: UserWarning: Variables are collinear\n",
      "  warnings.warn(\"Variables are collinear\")\n",
      "C:\\Users\\Sarda\\anaconda3\\lib\\site-packages\\sklearn\\discriminant_analysis.py:715: UserWarning: Variables are collinear\n",
      "  warnings.warn(\"Variables are collinear\")\n"
     ]
    },
    {
     "data": {
      "text/plain": [
       "<matplotlib.legend.Legend at 0x26f17c7af70>"
      ]
     },
     "execution_count": 69,
     "metadata": {},
     "output_type": "execute_result"
    },
    {
     "data": {
      "image/png": "[encoded data removed]",
      "text/plain": [
       "<Figure size 648x648 with 1 Axes>"
      ]
     },
     "metadata": {},
     "output_type": "display_data"
    }
   ],
   "source": [
    "name = 'qda'\n",
    "reg_params = [0.0, 0.001, 0.01, 0.1, 0.2, 0.5, 1]\n",
    "scores=[]\n",
    "for reg_param in reg_params:\n",
    "    models[name] = QuadraticDiscriminantAnalysis(reg_param=reg_param)\n",
    "    models[name].fit(X_train, y_train)\n",
    "    score = models[name].score(X_val, y_val)\n",
    "    scores.append((reg_param, score))\n",
    "    \n",
    "scores.sort(key = lambda x: x[1], reverse=True)\n",
    "best_reg_param = scores[0][0]\n",
    "print(f\"Parameters for the best model: {best_reg_param}\")\n",
    "models[name] = QuadraticDiscriminantAnalysis(reg_param=best_reg_param)\n",
    "models[name].fit(X_train, y_train)\n",
    "\n",
    "score = models[name].score(X_val, y_val)\n",
    "print('QuadraticDiscriminantAnalysis: Score={:.3f}'.format(score))\n",
    "f1 = f1_score(y_val, models[name].predict(X_val))\n",
    "if hasattr(models[name], \"decision_function\"):\n",
    "    y_prob = models[name].decision_function(X_val)\n",
    "else:\n",
    "    y_prob = models[name].predict_proba(X_val)[:, 1]\n",
    "precision, recall, _ = precision_recall_curve(y_val, y_prob)\n",
    "\n",
    "plt.figure(figsize=(9,9))\n",
    "plt.plot(recall, precision, label = 'QuadraticDiscriminantAnalysis: F1 Score={:.3f}'.format(f1))\n",
    "plt.title('Precision-Recall Curves')\n",
    "plt.xlabel('Recall')\n",
    "plt.ylabel('Precision')\n",
    "plt.legend(loc='lower left')"
   ]
  },
  {
   "cell_type": "markdown",
   "metadata": {},
   "source": [
    "### LightGBM"
   ]
  },
  {
   "cell_type": "code",
   "execution_count": 70,
   "metadata": {},
   "outputs": [
    {
     "name": "stdout",
     "output_type": "stream",
     "text": [
      "Parameters for the best model: (0.1, 0.01, 0.1, 3, 10)\n",
      "LightGBM: Score=0.858\n"
     ]
    },
    {
     "data": {
      "text/plain": [
       "<matplotlib.legend.Legend at 0x26fc5d42a30>"
      ]
     },
     "execution_count": 70,
     "metadata": {},
     "output_type": "execute_result"
    },
    {
     "data": {
      "image/png": "[encoded data removed]",
      "text/plain": [
       "<Figure size 648x648 with 1 Axes>"
      ]
     },
     "metadata": {},
     "output_type": "display_data"
    }
   ],
   "source": [
    "name = 'lightgbm'\n",
    "#cv = ShuffleSplit(n_splits=20, test_size=0.2, random_state=0)\n",
    "lrs = [0.003, 0.03, 0.1, 0.2, 0.3, 0.4, 0.5, 1]\n",
    "alphas = [0.01, 0.05, 0.1, 0.5, 1, 2]\n",
    "lambdas = [0.01, 0.05, 0.1, 0.5, 1, 2]\n",
    "max_depths = [3, 4, 5, 6, 10, 15]\n",
    "mcss = [10, 20, 30, 40, 50]\n",
    "scores= []\n",
    "for lr in lrs:\n",
    "    for alpha in alphas:\n",
    "        for lambda_ in lambdas:\n",
    "            for md in max_depths:\n",
    "                for mcs in mcss:\n",
    "                    models[name] = LGBMClassifier(reg_alpha=alpha, min_child_samples=mcs,\n",
    "                                                 reg_lambda=lambda_, max_depth=md, \n",
    "                                                 n_estimators=500, learning_rate=lr)\n",
    "                    models[name].fit(X_train, y_train)\n",
    "                    score = models[name].score(X_val, y_val)\n",
    "                    scores.append((lr, alpha, lambda_, md, mcs, score))\n",
    "\n",
    "scores.sort(key=lambda x: x[5], reverse=True)\n",
    "best_lr = scores[0][0]\n",
    "best_alpha = scores[0][1]\n",
    "best_lambda = scores[0][2]\n",
    "best_md = scores[0][3]\n",
    "best_mcs = scores[0][4]\n",
    "print(f\"Parameters for the best model: {(scores[0][:-1])}\")\n",
    "models[name] = LGBMClassifier(reg_alpha=best_alpha, min_child_samples=best_mcs,\n",
    "                             reg_lambda=best_lambda, max_depth=best_md, \n",
    "                             n_estimators=500, learning_rate=best_lr)\n",
    "models[name].fit(X_train, y_train)\n",
    "\n",
    "score = models[name].score(X_val, y_val)\n",
    "print('LightGBM: Score={:.3f}'.format(score))\n",
    "f1 = f1_score(y_val, models[name].predict(X_val))\n",
    "if hasattr(models[name], \"decision_function\"):\n",
    "    y_prob = models[name].decision_function(X_val)\n",
    "else:\n",
    "    y_prob = models[name].predict_proba(X_val)[:, 1]\n",
    "precision, recall, _ = precision_recall_curve(y_val, y_prob)\n",
    "\n",
    "plt.figure(figsize=(9,9))\n",
    "plt.plot(recall, precision, label = 'LightGBM: F1 Score={:.3f}'.format(f1))\n",
    "plt.title('Precision-Recall Curves')\n",
    "plt.xlabel('Recall')\n",
    "plt.ylabel('Precision')\n",
    "plt.legend(loc='lower left')"
   ]
  },
  {
   "cell_type": "markdown",
   "metadata": {},
   "source": [
    "### XGBoost"
   ]
  },
  {
   "cell_type": "code",
   "execution_count": 71,
   "metadata": {},
   "outputs": [
    {
     "name": "stderr",
     "output_type": "stream",
     "text": [
      "C:\\Users\\Sarda\\anaconda3\\lib\\site-packages\\xgboost\\sklearn.py:1146: UserWarning: The use of label encoder in XGBClassifier is deprecated and will be removed in a future release. To remove this warning, do the following: 1) Pass option use_label_encoder=False when constructing XGBClassifier object; and 2) Encode your labels (y) as integers starting with 0, i.e. 0, 1, 2, ..., [num_class - 1].\n",
      "  warnings.warn(label_encoder_deprecation_msg, UserWarning)\n"
     ]
    },
    {
     "name": "stdout",
     "output_type": "stream",
     "text": [
      "Parameters for the best model: (0.1, 0.01, 0.1, 3)\n",
      "XGBoost: Score=0.851\n"
     ]
    },
    {
     "data": {
      "text/plain": [
       "<matplotlib.legend.Legend at 0x26fc5d17820>"
      ]
     },
     "execution_count": 71,
     "metadata": {},
     "output_type": "execute_result"
    },
    {
     "data": {
      "image/png": "[encoded data removed]",
      "text/plain": [
       "<Figure size 648x648 with 1 Axes>"
      ]
     },
     "metadata": {},
     "output_type": "display_data"
    }
   ],
   "source": [
    "name = 'xgb'\n",
    "#cv = ShuffleSplit(n_splits=20, test_size=0.2, random_state=0)\n",
    "#Cs = np.arange(0.5,10,0.5)\n",
    "lrs = [0.003, 0.03, 0.1, 0.2, 0.3, 0.4, 0.5, 1]\n",
    "alphas = [0.01, 0.05, 0.1, 0.5, 1, 2]\n",
    "lambdas = [0.01, 0.05, 0.1, 0.5, 1, 2]\n",
    "max_depths = [3, 4, 5, 6, 10, 15]\n",
    "scores= []\n",
    "for lr in lrs:\n",
    "    for alpha in alphas:\n",
    "        for lambda_ in lambdas:\n",
    "            for md in max_depths:\n",
    "                models[name] = XGBClassifier(reg_alpha=alpha, verbosity=0,\n",
    "                                             reg_lambda=lambda_, max_depth=md, \n",
    "                                             num_parallel_tree=5, learning_rate=lr)\n",
    "                models[name].fit(X_train, y_train)\n",
    "                score = models[name].score(X_val, y_val)\n",
    "                scores.append((lr, alpha, lambda_, md, score))\n",
    "\n",
    "scores.sort(key=lambda x: x[4], reverse=True)\n",
    "best_lr = scores[0][0]\n",
    "best_alpha = scores[0][1]\n",
    "best_lambda = scores[0][2]\n",
    "best_md = scores[0][3]\n",
    "print(f\"Parameters for the best model: {(scores[0][:-1])}\")\n",
    "models[name] = XGBClassifier(reg_alpha=best_alpha, verbosity=0,\n",
    "                             reg_lambda=best_lambda, max_depth=best_md, \n",
    "                             num_parallel_tree=5, learning_rate=best_lr)\n",
    "models[name].fit(X_train, y_train)\n",
    "\n",
    "score = models[name].score(X_val, y_val)\n",
    "print('XGBoost: Score={:.3f}'.format(score))\n",
    "f1 = f1_score(y_val, models[name].predict(X_val))\n",
    "if hasattr(models[name], \"decision_function\"):\n",
    "    y_prob = models[name].decision_function(X_val)\n",
    "else:\n",
    "    y_prob = models[name].predict_proba(X_val)[:, 1]\n",
    "precision, recall, _ = precision_recall_curve(y_val, y_prob)\n",
    "\n",
    "plt.figure(figsize=(9,9))\n",
    "plt.plot(recall, precision, label = 'XGBoost: F1 Score={:.3f}'.format(f1))\n",
    "plt.title('Precision-Recall Curves')\n",
    "plt.xlabel('Recall')\n",
    "plt.ylabel('Precision')\n",
    "plt.legend(loc='lower left')"
   ]
  },
  {
   "cell_type": "markdown",
   "metadata": {},
   "source": [
    "### CatBoost"
   ]
  },
  {
   "cell_type": "code",
   "execution_count": 72,
   "metadata": {},
   "outputs": [
    {
     "name": "stdout",
     "output_type": "stream",
     "text": [
      "Parameters for the best model: (0.001, 1, 1, 10)\n",
      "CatBoost: Score=0.821\n"
     ]
    },
    {
     "data": {
      "text/plain": [
       "<matplotlib.legend.Legend at 0x26f18d031f0>"
      ]
     },
     "execution_count": 72,
     "metadata": {},
     "output_type": "execute_result"
    },
    {
     "data": {
      "image/png": "[encoded data removed]",
      "text/plain": [
       "<Figure size 648x648 with 1 Axes>"
      ]
     },
     "metadata": {},
     "output_type": "display_data"
    }
   ],
   "source": [
    "name = 'catboost'\n",
    "#cv = ShuffleSplit(n_splits=20, test_size=0.2, random_state=0)\n",
    "#Cs = np.arange(0.5,10,0.5)\n",
    "lrs = [0.001, 0.03]\n",
    "reg_lambdas = [1, 2]\n",
    "mcss = [1, 5]\n",
    "max_depths = [10, 16]\n",
    "scores= []\n",
    "for lr in lrs:\n",
    "    for reg_lambda in reg_lambdas: \n",
    "        for mcs in mcss:\n",
    "            for md in max_depths:\n",
    "                #print(lr, reg_lambda, mcs, md)\n",
    "                models[name] = CatBoostClassifier(min_child_samples=mcs, learning_rate=lr,\n",
    "                                                  reg_lambda=reg_lambda, max_depth=md, verbose=0)\n",
    "                models[name].fit(X_train, y_train)\n",
    "                score = models[name].score(X_val, y_val)\n",
    "                scores.append((lr, reg_lambda, mcs, md, score))\n",
    "scores.sort(key=lambda x: x[4], reverse=True)\n",
    "best_lr = scores[0][0]\n",
    "best_reg_lambda = scores[0][1]\n",
    "best_mcs = scores[0][2]\n",
    "best_md = scores[0][3]\n",
    "print(f\"Parameters for the best model: {(scores[0][:-1])}\")\n",
    "models[name] = CatBoostClassifier(min_child_samples=best_mcs, learning_rate=best_lr, \n",
    "                                  reg_lambda=best_reg_lambda, max_depth=best_md, verbose=0)\n",
    "                                  \n",
    "models[name].fit(X_train, y_train)\n",
    "\n",
    "score = models[name].score(X_val, y_val)\n",
    "print('CatBoost: Score={:.3f}'.format(score))\n",
    "f1 = f1_score(y_val, models[name].predict(X_val))\n",
    "if hasattr(models[name], \"decision_function\"):\n",
    "    y_prob = models[name].decision_function(X_val)\n",
    "else:\n",
    "    y_prob = models[name].predict_proba(X_val)[:, 1]\n",
    "precision, recall, _ = precision_recall_curve(y_val, y_prob)\n",
    "\n",
    "plt.figure(figsize=(9,9))\n",
    "plt.plot(recall, precision, label = 'CatBoost: F1 Score={:.3f}'.format(f1))\n",
    "plt.title('Precision-Recall Curves')\n",
    "plt.xlabel('Recall')\n",
    "plt.ylabel('Precision')\n",
    "plt.legend(loc='lower left')"
   ]
  },
  {
   "cell_type": "markdown",
   "metadata": {},
   "source": [
    "### Stacking Classification"
   ]
  },
  {
   "cell_type": "code",
   "execution_count": 73,
   "metadata": {},
   "outputs": [
    {
     "data": {
      "text/plain": [
       "dict_keys(['logistic', 'knn', 'linearsvm', 'rbfsvm', 'sigmoidsvm', 'gpc', 'dtc', 'rfc', 'neuralnet', 'adaboost', 'gaussiannb', 'qda', 'lightgbm', 'xgb', 'catboost'])"
      ]
     },
     "execution_count": 73,
     "metadata": {},
     "output_type": "execute_result"
    }
   ],
   "source": [
    "models.keys()"
   ]
  },
  {
   "cell_type": "markdown",
   "metadata": {},
   "source": [
    "#### SVM Mix"
   ]
  },
  {
   "cell_type": "code",
   "execution_count": 74,
   "metadata": {},
   "outputs": [
    {
     "name": "stdout",
     "output_type": "stream",
     "text": [
      "SVM_Mix: Score=0.813\n"
     ]
    },
    {
     "data": {
      "text/plain": [
       "<matplotlib.legend.Legend at 0x26fbaa3a940>"
      ]
     },
     "execution_count": 74,
     "metadata": {},
     "output_type": "execute_result"
    },
    {
     "data": {
      "image/png": "[encoded data removed]",
      "text/plain": [
       "<Figure size 648x648 with 1 Axes>"
      ]
     },
     "metadata": {},
     "output_type": "display_data"
    }
   ],
   "source": [
    "name='svm_mix'\n",
    "estimators = [('linearsvm', models['linearsvm']),\n",
    "              ('rbfsvm', models['rbfsvm']),\n",
    "              ('sigmoidsvm', models['sigmoidsvm'])]\n",
    "models[name] = StackingClassifier(estimators=estimators, final_estimator=models['gpc'])\n",
    "models[name].fit(X_train, y_train)\n",
    "\n",
    "score = models[name].score(X_val, y_val)\n",
    "print('SVM_Mix: Score={:.3f}'.format(score))\n",
    "f1 = f1_score(y_val, models[name].predict(X_val))\n",
    "if hasattr(models[name], \"decision_function\"):\n",
    "    y_prob = models[name].decision_function(X_val)\n",
    "else:\n",
    "    y_prob = models[name].predict_proba(X_val)[:, 1]\n",
    "precision, recall, _ = precision_recall_curve(y_val, y_prob)\n",
    "\n",
    "plt.figure(figsize=(9,9))\n",
    "plt.plot(recall, precision, label = 'SVM_Mix: F1 Score={:.3f}'.format(f1))\n",
    "plt.title('Precision-Recall Curves')\n",
    "plt.xlabel('Recall')\n",
    "plt.ylabel('Precision')\n",
    "plt.legend(loc='lower left')"
   ]
  },
  {
   "cell_type": "markdown",
   "metadata": {},
   "source": [
    "#### Advance Mix"
   ]
  },
  {
   "cell_type": "code",
   "execution_count": 75,
   "metadata": {},
   "outputs": [
    {
     "name": "stderr",
     "output_type": "stream",
     "text": [
      "C:\\Users\\Sarda\\anaconda3\\lib\\site-packages\\xgboost\\sklearn.py:1146: UserWarning: The use of label encoder in XGBClassifier is deprecated and will be removed in a future release. To remove this warning, do the following: 1) Pass option use_label_encoder=False when constructing XGBClassifier object; and 2) Encode your labels (y) as integers starting with 0, i.e. 0, 1, 2, ..., [num_class - 1].\n",
      "  warnings.warn(label_encoder_deprecation_msg, UserWarning)\n",
      "C:\\Users\\Sarda\\anaconda3\\lib\\site-packages\\xgboost\\sklearn.py:1146: UserWarning: The use of label encoder in XGBClassifier is deprecated and will be removed in a future release. To remove this warning, do the following: 1) Pass option use_label_encoder=False when constructing XGBClassifier object; and 2) Encode your labels (y) as integers starting with 0, i.e. 0, 1, 2, ..., [num_class - 1].\n",
      "  warnings.warn(label_encoder_deprecation_msg, UserWarning)\n"
     ]
    },
    {
     "name": "stdout",
     "output_type": "stream",
     "text": [
      "Adv_Mix: Score=0.836\n"
     ]
    },
    {
     "data": {
      "text/plain": [
       "<matplotlib.legend.Legend at 0x26f1bd54850>"
      ]
     },
     "execution_count": 75,
     "metadata": {},
     "output_type": "execute_result"
    },
    {
     "data": {
      "image/png": "[encoded data removed]",
      "text/plain": [
       "<Figure size 648x648 with 1 Axes>"
      ]
     },
     "metadata": {},
     "output_type": "display_data"
    }
   ],
   "source": [
    "name='adv_mix1'\n",
    "estimators = [('lightgbm', models['lightgbm']),\n",
    "              ('xgb', models['xgb']),\n",
    "              ('catboost', models['catboost'])]\n",
    "models[name] = StackingClassifier(estimators=estimators, final_estimator=models['rbfsvm'])\n",
    "models[name].fit(X_train, y_train)\n",
    "\n",
    "score = models[name].score(X_val, y_val)\n",
    "print('Adv_Mix: Score={:.3f}'.format(score))\n",
    "f1 = f1_score(y_val, models[name].predict(X_val))\n",
    "if hasattr(models[name], \"decision_function\"):\n",
    "    y_prob = models[name].decision_function(X_val)\n",
    "else:\n",
    "    y_prob = models[name].predict_proba(X_val)[:, 1]\n",
    "precision, recall, _ = precision_recall_curve(y_val, y_prob)\n",
    "\n",
    "plt.figure(figsize=(9,9))\n",
    "plt.plot(recall, precision, label = 'Adv_Mix: F1 Score={:.3f}'.format(f1))\n",
    "plt.title('Precision-Recall Curves')\n",
    "plt.xlabel('Recall')\n",
    "plt.ylabel('Precision')\n",
    "plt.legend(loc='lower left')"
   ]
  },
  {
   "cell_type": "code",
   "execution_count": 76,
   "metadata": {},
   "outputs": [
    {
     "name": "stderr",
     "output_type": "stream",
     "text": [
      "C:\\Users\\Sarda\\anaconda3\\lib\\site-packages\\xgboost\\sklearn.py:1146: UserWarning: The use of label encoder in XGBClassifier is deprecated and will be removed in a future release. To remove this warning, do the following: 1) Pass option use_label_encoder=False when constructing XGBClassifier object; and 2) Encode your labels (y) as integers starting with 0, i.e. 0, 1, 2, ..., [num_class - 1].\n",
      "  warnings.warn(label_encoder_deprecation_msg, UserWarning)\n",
      "C:\\Users\\Sarda\\anaconda3\\lib\\site-packages\\xgboost\\sklearn.py:1146: UserWarning: The use of label encoder in XGBClassifier is deprecated and will be removed in a future release. To remove this warning, do the following: 1) Pass option use_label_encoder=False when constructing XGBClassifier object; and 2) Encode your labels (y) as integers starting with 0, i.e. 0, 1, 2, ..., [num_class - 1].\n",
      "  warnings.warn(label_encoder_deprecation_msg, UserWarning)\n"
     ]
    },
    {
     "name": "stdout",
     "output_type": "stream",
     "text": [
      "Adv_Mix: Score=0.813\n"
     ]
    },
    {
     "data": {
      "text/plain": [
       "<matplotlib.legend.Legend at 0x26f1bda17f0>"
      ]
     },
     "execution_count": 76,
     "metadata": {},
     "output_type": "execute_result"
    },
    {
     "data": {
      "image/png": "[encoded data removed]",
      "text/plain": [
       "<Figure size 648x648 with 1 Axes>"
      ]
     },
     "metadata": {},
     "output_type": "display_data"
    }
   ],
   "source": [
    "name='adv_mix2'\n",
    "estimators = [('lightgbm', models['lightgbm']),\n",
    "              ('xgb', models['xgb']),\n",
    "              ('catboost', models['catboost'])]\n",
    "models[name] = StackingClassifier(estimators=estimators, final_estimator=models['gpc'])\n",
    "models[name].fit(X_train, y_train)\n",
    "\n",
    "score = models[name].score(X_val, y_val)\n",
    "print('Adv_Mix: Score={:.3f}'.format(score))\n",
    "f1 = f1_score(y_val, models[name].predict(X_val))\n",
    "if hasattr(models[name], \"decision_function\"):\n",
    "    y_prob = models[name].decision_function(X_val)\n",
    "else:\n",
    "    y_prob = models[name].predict_proba(X_val)[:, 1]\n",
    "precision, recall, _ = precision_recall_curve(y_val, y_prob)\n",
    "\n",
    "plt.figure(figsize=(9,9))\n",
    "plt.plot(recall, precision, label = 'Adv_Mix: F1 Score={:.3f}'.format(f1))\n",
    "plt.title('Precision-Recall Curves')\n",
    "plt.xlabel('Recall')\n",
    "plt.ylabel('Precision')\n",
    "plt.legend(loc='lower left')"
   ]
  },
  {
   "cell_type": "markdown",
   "metadata": {},
   "source": [
    "#### Custom Mix"
   ]
  },
  {
   "cell_type": "code",
   "execution_count": 77,
   "metadata": {},
   "outputs": [
    {
     "name": "stdout",
     "output_type": "stream",
     "text": [
      "Custom_Mix1: Score=0.813\n"
     ]
    },
    {
     "data": {
      "text/plain": [
       "<matplotlib.legend.Legend at 0x26f1de4e790>"
      ]
     },
     "execution_count": 77,
     "metadata": {},
     "output_type": "execute_result"
    },
    {
     "data": {
      "image/png": "[encoded data removed]",
      "text/plain": [
       "<Figure size 648x648 with 1 Axes>"
      ]
     },
     "metadata": {},
     "output_type": "display_data"
    }
   ],
   "source": [
    "name='cus_mix1'\n",
    "estimators = [('rfc', models['rfc']),\n",
    "              ('neuralnet', models['neuralnet']),\n",
    "              ('gpc', models['gpc'])]\n",
    "models[name] = StackingClassifier(estimators=estimators, final_estimator=models['catboost'])\n",
    "models[name].fit(X_train, y_train)\n",
    "\n",
    "score = models[name].score(X_val, y_val)\n",
    "print('Custom_Mix1: Score={:.3f}'.format(score))\n",
    "f1 = f1_score(y_val, models[name].predict(X_val))\n",
    "if hasattr(models[name], \"decision_function\"):\n",
    "    y_prob = models[name].decision_function(X_val)\n",
    "else:\n",
    "    y_prob = models[name].predict_proba(X_val)[:, 1]\n",
    "precision, recall, _ = precision_recall_curve(y_val, y_prob)\n",
    "\n",
    "plt.figure(figsize=(9,9))\n",
    "plt.plot(recall, precision, label = 'Custom_Mix1: F1 Score={:.3f}'.format(f1))\n",
    "plt.title('Precision-Recall Curves')\n",
    "plt.xlabel('Recall')\n",
    "plt.ylabel('Precision')\n",
    "plt.legend(loc='lower left')"
   ]
  },
  {
   "cell_type": "markdown",
   "metadata": {},
   "source": [
    "## Submission"
   ]
  },
  {
   "cell_type": "code",
   "execution_count": 82,
   "metadata": {},
   "outputs": [
    {
     "data": {
      "text/html": [
       "<div>\n",
       "<style scoped>\n",
       "    .dataframe tbody tr th:only-of-type {\n",
       "        vertical-align: middle;\n",
       "    }\n",
       "\n",
       "    .dataframe tbody tr th {\n",
       "        vertical-align: top;\n",
       "    }\n",
       "\n",
       "    .dataframe thead th {\n",
       "        text-align: right;\n",
       "    }\n",
       "</style>\n",
       "<table border=\"1\" class=\"dataframe\">\n",
       "  <thead>\n",
       "    <tr style=\"text-align: right;\">\n",
       "      <th></th>\n",
       "      <th>PassengerId</th>\n",
       "      <th>Survived</th>\n",
       "    </tr>\n",
       "  </thead>\n",
       "  <tbody>\n",
       "    <tr>\n",
       "      <th>0</th>\n",
       "      <td>892</td>\n",
       "      <td>0</td>\n",
       "    </tr>\n",
       "    <tr>\n",
       "      <th>1</th>\n",
       "      <td>893</td>\n",
       "      <td>1</td>\n",
       "    </tr>\n",
       "    <tr>\n",
       "      <th>2</th>\n",
       "      <td>894</td>\n",
       "      <td>0</td>\n",
       "    </tr>\n",
       "    <tr>\n",
       "      <th>3</th>\n",
       "      <td>895</td>\n",
       "      <td>0</td>\n",
       "    </tr>\n",
       "    <tr>\n",
       "      <th>4</th>\n",
       "      <td>896</td>\n",
       "      <td>1</td>\n",
       "    </tr>\n",
       "    <tr>\n",
       "      <th>...</th>\n",
       "      <td>...</td>\n",
       "      <td>...</td>\n",
       "    </tr>\n",
       "    <tr>\n",
       "      <th>413</th>\n",
       "      <td>1305</td>\n",
       "      <td>0</td>\n",
       "    </tr>\n",
       "    <tr>\n",
       "      <th>414</th>\n",
       "      <td>1306</td>\n",
       "      <td>1</td>\n",
       "    </tr>\n",
       "    <tr>\n",
       "      <th>415</th>\n",
       "      <td>1307</td>\n",
       "      <td>0</td>\n",
       "    </tr>\n",
       "    <tr>\n",
       "      <th>416</th>\n",
       "      <td>1308</td>\n",
       "      <td>0</td>\n",
       "    </tr>\n",
       "    <tr>\n",
       "      <th>417</th>\n",
       "      <td>1309</td>\n",
       "      <td>0</td>\n",
       "    </tr>\n",
       "  </tbody>\n",
       "</table>\n",
       "<p>418 rows × 2 columns</p>\n",
       "</div>"
      ],
      "text/plain": [
       "     PassengerId  Survived\n",
       "0            892         0\n",
       "1            893         1\n",
       "2            894         0\n",
       "3            895         0\n",
       "4            896         1\n",
       "..           ...       ...\n",
       "413         1305         0\n",
       "414         1306         1\n",
       "415         1307         0\n",
       "416         1308         0\n",
       "417         1309         0\n",
       "\n",
       "[418 rows x 2 columns]"
      ]
     },
     "execution_count": 82,
     "metadata": {},
     "output_type": "execute_result"
    }
   ],
   "source": [
    "output = pd.read_csv('gender_submission.csv')\n",
    "output"
   ]
  },
  {
   "cell_type": "code",
   "execution_count": 83,
   "metadata": {},
   "outputs": [],
   "source": [
    "pred = models['lightgbm'].predict(X_test)\n",
    "output['Survived'] = pred"
   ]
  },
  {
   "cell_type": "code",
   "execution_count": 84,
   "metadata": {},
   "outputs": [],
   "source": [
    "output['Survived'] = output.Survived.astype('int')"
   ]
  },
  {
   "cell_type": "code",
   "execution_count": 85,
   "metadata": {},
   "outputs": [],
   "source": [
    "output.to_csv('submission2.csv', index=False)"
   ]
  },
  {
   "cell_type": "code",
   "execution_count": null,
   "metadata": {},
   "outputs": [],
   "source": []
  }
 ],
 "metadata": {
  "kernelspec": {
   "display_name": "Python 3",
   "language": "python",
   "name": "python3"
  },
  "language_info": {
   "codemirror_mode": {
    "name": "ipython",
    "version": 3
   },
   "file_extension": ".py",
   "mimetype": "text/x-python",
   "name": "python",
   "nbconvert_exporter": "python",
   "pygments_lexer": "ipython3",
   "version": "3.8.3"
  }
 },
 "nbformat": 4,
 "nbformat_minor": 4
}
